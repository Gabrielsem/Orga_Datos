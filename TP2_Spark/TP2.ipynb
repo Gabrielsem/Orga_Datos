{
 "cells": [
  {
   "cell_type": "markdown",
   "metadata": {},
   "source": [
    "# TP2 - Spark"
   ]
  },
  {
   "cell_type": "code",
   "execution_count": 1,
   "metadata": {},
   "outputs": [],
   "source": [
    "%config Completer.use_jedi = False\n",
    "from pyspark.sql import *\n",
    "from pyspark.sql.functions import *\n",
    "from pyspark import SparkContext\n",
    "from pyspark.sql import SQLContext\n",
    "from nltk.util import ngrams\n",
    "import nltk\n",
    "import pandas as pd"
   ]
  },
  {
   "cell_type": "code",
   "execution_count": 2,
   "metadata": {},
   "outputs": [
    {
     "name": "stderr",
     "output_type": "stream",
     "text": [
      "/mnt/882C57D72C57BEBE/Anaconda3/lib/python3.8/site-packages/pyspark/sql/context.py:77: FutureWarning: Deprecated in 3.0.0. Use SparkSession.builder.getOrCreate() instead.\n",
      "  warnings.warn(\n"
     ]
    }
   ],
   "source": [
    "# create the Spark Session\n",
    "spark = SparkSession.builder.getOrCreate()\n",
    "\n",
    "# create the Spark Context\n",
    "sc = spark.sparkContext\n",
    "\n",
    "sqlContext = SQLContext(sc)"
   ]
  },
  {
   "cell_type": "markdown",
   "metadata": {},
   "source": [
    "## Consulta 11\n",
    "Generar una función genérica que dado un n nos permita obtener un RDD con los\n",
    "n-gramas del contenido de texto de wikipedia y su frecuencia"
   ]
  },
  {
   "cell_type": "code",
   "execution_count": 3,
   "metadata": {},
   "outputs": [],
   "source": [
    "def wikiNgramsFreq(n):\n",
    "    # hago esto para poder leer el csv correctamente (propuesto por Gian)\n",
    "#     texts = pd.read_csv('/mnt/882C57D72C57BEBE/gabriel/FIUBA/ORGADATOS/TP1/data/contents_text_sample.csv')\n",
    "#     texts.to_parquet('contents_text_sample.parquet')\n",
    "#     del texts\n",
    "    dfText = sqlContext.read.parquet('contents_text_sample.parquet')\n",
    "    rddText = dfText.rdd\n",
    "    # obtengo los ngramas con sus frecuencias\n",
    "    return rddText.flatMap(lambda entrada: ngrams(str(entrada.text).lower().split(), n) ).map(lambda ngram : (ngram, 1)).reduceByKey(lambda a,b : a+b)"
   ]
  },
  {
   "cell_type": "code",
   "execution_count": 4,
   "metadata": {},
   "outputs": [
    {
     "data": {
      "text/plain": [
       "[(('la', 'isla', 'de', '[[eubea]]'), 4),\n",
       " (('por', 'david', 'ritz.', \"''the\"), 1),\n",
       " (('a', 'cabo', 'la', 'celebración'), 2),\n",
       " (('necesarios', '||', '26.6.2006', '||'), 1),\n",
       " (('united', 'against', 'apartheid]],', 'que'), 1),\n",
       " (('villa,', 'destacando', 'las', 'de'), 1),\n",
       " (('la', 'associazione', 'gruppi', 'di'), 1),\n",
       " (('se', 'alinearon', 'con', 'el'), 1),\n",
       " (('las',\n",
       "   'sub-23',\n",
       "   '|url=http://masdeporte.as.com/masdeporte/2012/07/25/juegosolimpicos/1343173475_894631.html',\n",
       "   '|fechaacceso=24'),\n",
       "  1),\n",
       " (('ornstein', 'como', 'coautor', 'de'), 1)]"
      ]
     },
     "execution_count": 4,
     "metadata": {},
     "output_type": "execute_result"
    }
   ],
   "source": [
    "# pruebo el funcionamiento de la función\n",
    "freq4 = wikiNgramsFreq(4)\n",
    "freq4.take(10)"
   ]
  },
  {
   "cell_type": "markdown",
   "metadata": {},
   "source": [
    "## Consulta 13\n",
    "La región por cada país que tiene la mayor cantidad de contenidos publicados."
   ]
  },
  {
   "cell_type": "code",
   "execution_count": 18,
   "metadata": {},
   "outputs": [
    {
     "data": {
      "text/plain": [
       "[Row(gt_id='158041', gt_page_id=4328020, gt_globe='earth', gt_primary=0, gt_lat=41.50749969, gt_lon=-5.81750011, gt_dim=1000, gt_type=None, gt_name=None, gt_country=None, gt_region=None),\n",
       " Row(gt_id='5844377', gt_page_id=4670424, gt_globe='earth', gt_primary=0, gt_lat=13.73799992, gt_lon=-89.29199982, gt_dim=10000, gt_type='city', gt_name=None, gt_country=None, gt_region=None)]"
      ]
     },
     "execution_count": 18,
     "metadata": {},
     "output_type": "execute_result"
    }
   ],
   "source": [
    "dfgeo = sqlContext.read.csv('/mnt/882C57D72C57BEBE/gabriel/FIUBA/ORGADATOS/TP1/data/geo_tags.csv', header=True, inferSchema=True)\n",
    "rddgeo = dfgeo.rdd\n",
    "rddgeo.take(2)"
   ]
  },
  {
   "cell_type": "code",
   "execution_count": 19,
   "metadata": {},
   "outputs": [
    {
     "data": {
      "text/plain": [
       "[Row(gt_id='41228448', gt_page_id=1515657, gt_globe='earth', gt_primary=0, gt_lat=-31.475, gt_lon=-68.65, gt_dim=10000, gt_type='waterbody', gt_name=None, gt_country='AR', gt_region='J'),\n",
       " Row(gt_id='91697926', gt_page_id=8623414, gt_globe='earth', gt_primary=0, gt_lat=42.8475, gt_lon=-2.67222222, gt_dim=1000, gt_type='landmark', gt_name='Palacio Villa de Suso', gt_country='ES', gt_region='MC')]"
      ]
     },
     "execution_count": 19,
     "metadata": {},
     "output_type": "execute_result"
    }
   ],
   "source": [
    "rddgeo = rddgeo.filter(lambda x : ((x.gt_country != None) and (x.gt_region != None)))\n",
    "rddgeo.take(2)"
   ]
  },
  {
   "cell_type": "code",
   "execution_count": 20,
   "metadata": {},
   "outputs": [
    {
     "data": {
      "text/plain": [
       "[(('GB', 'PTE'), 1),\n",
       " (('GB', 'STS'), 3),\n",
       " (('JM', '1'), 2),\n",
       " (('MX', 'QUE'), 12),\n",
       " (('RO', 'SB'), 1),\n",
       " (('TR', '34'), 6),\n",
       " (('DE', 'HE'), 19),\n",
       " (('US', 'IL'), 19),\n",
       " (('CA', 'BC'), 18),\n",
       " (('MX', 'YUC'), 6)]"
      ]
     },
     "execution_count": 20,
     "metadata": {},
     "output_type": "execute_result"
    }
   ],
   "source": [
    "# cuento la cantidad de apariciones de cada par pais-ciudad (por las dudas de que haya ciudades con igual abreviacion para paises distintos)\n",
    "regiones = rddgeo.map(lambda x : ((x.gt_country, x.gt_region), 1) ).reduceByKey(lambda a,b : a+b)\n",
    "regiones.take(10)"
   ]
  },
  {
   "cell_type": "code",
   "execution_count": 21,
   "metadata": {},
   "outputs": [],
   "source": [
    "# reordeno la clave-valor y me quedo solo con la ciudad de cada pais que tenga mas apariciones\n",
    "topregiones = regiones.map(lambda x : (x[0][0], (x[0][1], x[1])))\n",
    "topregiones = topregiones.reduceByKey(lambda a,b: a if (a[1]>=b[1]) else b)\n",
    "#hasta acá es lo pedido por la consigna"
   ]
  },
  {
   "cell_type": "code",
   "execution_count": 22,
   "metadata": {},
   "outputs": [
    {
     "data": {
      "text/plain": [
       "[('ES', ('CT', 300)),\n",
       " ('US', ('CA', 180)),\n",
       " ('CA', ('QC', 173)),\n",
       " ('JP', ('13', 104)),\n",
       " ('DE', ('BE', 51)),\n",
       " ('FI', ('ES', 27)),\n",
       " ('IT', ('RM', 21)),\n",
       " ('AT', ('9', 17)),\n",
       " ('AR', ('C', 14)),\n",
       " ('MX', ('QUE', 12)),\n",
       " ('CH', ('BS', 10)),\n",
       " ('CN', ('11', 10)),\n",
       " ('GB', ('WSM', 10)),\n",
       " ('AU', ('WA', 9)),\n",
       " ('FR', ('75', 8)),\n",
       " ('IE', ('L', 8)),\n",
       " ('NI', ('MN', 8)),\n",
       " ('PE', ('PAS', 7)),\n",
       " ('BR', ('ES', 7)),\n",
       " ('TR', ('34', 6)),\n",
       " ('SE', ('AB', 6)),\n",
       " ('RU', ('MOW', 5)),\n",
       " ('DK', ('82', 5)),\n",
       " ('BE', ('VOV', 5)),\n",
       " ('IN', ('DL', 4)),\n",
       " ('IL', ('JM', 4)),\n",
       " ('BA', ('BIH', 4)),\n",
       " ('AZ', ('ABS', 4)),\n",
       " ('PL', ('MA', 3)),\n",
       " ('KP', ('8', 3))]"
      ]
     },
     "execution_count": 22,
     "metadata": {},
     "output_type": "execute_result"
    }
   ],
   "source": [
    "# lo ordeno por curiosidad\n",
    "topregiones.takeOrdered(30, key = lambda x : -x[1][1])"
   ]
  },
  {
   "cell_type": "markdown",
   "metadata": {},
   "source": [
    "## Consulta 14\n",
    "El Top 5 de contenidos que tienen la mayor cantidad de redirecciones que apuntan a\n",
    "ellos"
   ]
  },
  {
   "cell_type": "code",
   "execution_count": 3,
   "metadata": {},
   "outputs": [
    {
     "data": {
      "text/plain": [
       "[Row(rd_from=54, rd_namespace=0, rd_title='Apiales', rd_interwiki=None, rd_fragment=None),\n",
       " Row(rd_from=57, rd_namespace=0, rd_title='Atmósfera', rd_interwiki=None, rd_fragment=None),\n",
       " Row(rd_from=58, rd_namespace=0, rd_title='Archaea', rd_interwiki=None, rd_fragment=None),\n",
       " Row(rd_from=82, rd_namespace=0, rd_title='Agujero_de_gusano', rd_interwiki=None, rd_fragment=None),\n",
       " Row(rd_from=108, rd_namespace=0, rd_title='Stipa', rd_interwiki=None, rd_fragment=None)]"
      ]
     },
     "execution_count": 3,
     "metadata": {},
     "output_type": "execute_result"
    }
   ],
   "source": [
    "dflinks = sqlContext.read.csv('/mnt/882C57D72C57BEBE/gabriel/FIUBA/ORGADATOS/TP1/data/redirect_list.csv', header=True, inferSchema=True)\n",
    "rddlinks = dflinks.rdd\n",
    "rddlinks.take(5)"
   ]
  },
  {
   "cell_type": "code",
   "execution_count": 4,
   "metadata": {},
   "outputs": [
    {
     "data": {
      "text/plain": [
       "[('Artículo_futuro', 1161),\n",
       " ('IV_milenio', 1001),\n",
       " ('V_milenio', 998),\n",
       " ('Estaciones_de_Metrobús_de_la_Ciudad_de_México', 396),\n",
       " ('163.117.0.0', 310)]"
      ]
     },
     "execution_count": 4,
     "metadata": {},
     "output_type": "execute_result"
    }
   ],
   "source": [
    "redcontents = rddlinks.map(lambda x : (x.rd_title, 1))\n",
    "# obtengo el top5 de contenidos con mayor cantidad de redirecciones hacia ellos\n",
    "redcontents.reduceByKey(lambda a,b : a+b).takeOrdered(5, lambda x: -x[1])"
   ]
  },
  {
   "cell_type": "markdown",
   "metadata": {},
   "source": [
    "## Consulta 35\n",
    "¿Cuál es el mínimo que ha durado desde su registro un usuario bloqueado en la\n",
    "plataforma?"
   ]
  },
  {
   "cell_type": "code",
   "execution_count": 3,
   "metadata": {},
   "outputs": [
    {
     "data": {
      "text/plain": [
       "[Row(item_id=1, timestamp='2004-12-23T07:10:09Z', contributor_username='Sabbut', contributor_id=2075.0, contributor_ip=None, comment=\"el contenido era: 'Si aprendés Pensamiento Científico ... TE VA S AENTERAR'\", logtype='delete', action='delete', title='Verificacionismo'),\n",
       " Row(item_id=2, timestamp='2004-12-23T07:14:09Z', contributor_username='Sabbut', contributor_id=2075.0, contributor_ip=None, comment=\"el contenido era: '{{destruir}}en algun lugar lejano pero tan cerca como el largo del cuello de una jirafa se encontraba una torre'\", logtype='delete', action='delete', title='Rapunzel'),\n",
       " Row(item_id=3, timestamp='2004-12-23T07:26:10Z', contributor_username='Sabbut', contributor_id=2075.0, contributor_ip=None, comment=\"el contenido era: '#REDIRECT [[Flash]]'\", logtype='delete', action='delete', title='Macromedia Flash'),\n",
       " Row(item_id=4, timestamp='2004-12-23T07:55:09Z', contributor_username='Sanbec', contributor_id=7856.0, contributor_ip=None, comment='Sin información de origen ni de licencia. Hay alternativas en commons', logtype='delete', action='delete', title='Archivo:Gnu head.png'),\n",
       " Row(item_id=5, timestamp='2004-12-23T08:02:22Z', contributor_username='Sanbec', contributor_id=7856.0, contributor_ip=None, comment='Sustituida por  [[commons:Image:Heckert_GNU.png]]', logtype='delete', action='delete', title='Archivo:Gnu-head-sm.jpg')]"
      ]
     },
     "execution_count": 3,
     "metadata": {},
     "output_type": "execute_result"
    }
   ],
   "source": [
    "# hago esto para poder leer el csv correctamente (propuesto por Gian)\n",
    "# logs = pd.read_csv('/mnt/882C57D72C57BEBE/gabriel/FIUBA/ORGADATOS/TP1/data/logs.csv')\n",
    "# logs.to_parquet('logs.parquet')\n",
    "# del logs\n",
    "dflogs = sqlContext.read.parquet('logs.parquet')\n",
    "rddlogs = dflogs.rdd\n",
    "rddlogs.take(5)"
   ]
  },
  {
   "cell_type": "code",
   "execution_count": 4,
   "metadata": {},
   "outputs": [
    {
     "data": {
      "text/plain": [
       "[('152.26.209.40', '2016-11-06T23:26:09Z'),\n",
       " ('80.34.175.241', '2012-05-15T13:15:09Z'),\n",
       " ('2806:108E:1A:1707:ECB7:F1EC:FECC:BFE7', '2019-06-18T09:07:28Z'),\n",
       " ('80.103.58.67', '2010-02-16T03:04:18Z'),\n",
       " ('181.196.227.142', '2014-11-04T21:36:48Z'),\n",
       " ('Millavy', '2011-08-31T17:16:40Z'),\n",
       " ('200.28.135.70', '2009-11-20T12:09:31Z'),\n",
       " ('190.51.104.26', '2007-12-17T14:37:59Z'),\n",
       " ('190.149.77.229', '2012-11-15T16:12:32Z'),\n",
       " ('200.54.105.49', '2018-09-04T17:48:58Z')]"
      ]
     },
     "execution_count": 4,
     "metadata": {},
     "output_type": "execute_result"
    }
   ],
   "source": [
    "# me quedo con los nombres de usuarios que fueron bloqueados y la fecha de bloqueo\n",
    "rddblocks = rddlogs.filter(lambda x : (x.action == 'block')).map(lambda linea : (str(linea.title).split(':',1), linea.timestamp)).filter(lambda x: len(x[0]) > 1)\\\n",
    "    .map(lambda x : (x[0][1], x[1]) ).cache()\n",
    "rddblocks.takeSample(False, 10)"
   ]
  },
  {
   "cell_type": "code",
   "execution_count": 5,
   "metadata": {},
   "outputs": [
    {
     "data": {
      "text/plain": [
       "[('Thepartyofspain', '2013-05-24T22:49:16Z'),\n",
       " ('JOSÉ ESCOBAR', '2007-05-24T01:13:23Z'),\n",
       " ('Vjimenezvilla', '2020-04-18T15:08:46Z'),\n",
       " ('Dayanaquinrero', '2016-08-20T01:43:57Z'),\n",
       " ('JhosuaDJ', '2015-06-01T03:12:45Z'),\n",
       " ('Anjhusabu', '2006-10-07T00:24:42Z'),\n",
       " ('Ga06', '2014-10-15T17:48:37Z'),\n",
       " ('Lujan martinez', '2016-08-03T02:54:17Z'),\n",
       " ('Funcion.gamma', '2007-06-23T02:00:50Z'),\n",
       " ('La chica ffaso', '2013-05-26T23:38:38Z')]"
      ]
     },
     "execution_count": 5,
     "metadata": {},
     "output_type": "execute_result"
    }
   ],
   "source": [
    "# me quedo con los nombres de usuarios nuevos y su fecha de creacion\n",
    "rddnewacc = rddlogs.filter(lambda x : (x.logtype == 'newusers' and x.action == 'create')).map(lambda x: (x.contributor_username, x.timestamp)).cache()\n",
    "rddnewacc.takeSample(False, 10)"
   ]
  },
  {
   "cell_type": "code",
   "execution_count": 6,
   "metadata": {},
   "outputs": [],
   "source": [
    "# me quedo solo con el 1er registro y 1er bloqueo por cada usuario\n",
    "rddnewacc = rddnewacc.reduceByKey(lambda date1, date2 : date1 if pd.to_datetime(date1, format = '%Y-%m-%dT%H:%M:%SZ') <= pd.to_datetime(date2, format = '%Y-%m-%dT%H:%M:%SZ') else date2)\n",
    "rddblocks = rddblocks.reduceByKey(lambda date1, date2 : date1 if pd.to_datetime(date1, format = '%Y-%m-%dT%H:%M:%SZ') <= pd.to_datetime(date2, format = '%Y-%m-%dT%H:%M:%SZ') else date2)"
   ]
  },
  {
   "cell_type": "code",
   "execution_count": 7,
   "metadata": {},
   "outputs": [
    {
     "data": {
      "text/plain": [
       "[('Bloquearmeeeeeeeeeee', ('2006-05-26T14:53:24Z', '2019-08-25T22:55:06Z')),\n",
       " ('Cagabot', ('2006-06-09T03:58:12Z', '2006-06-09T04:04:14Z')),\n",
       " (\"D'Alembert~eswiki\", ('2006-12-31T03:09:25Z', '2007-01-04T15:56:18Z')),\n",
       " ('Dekadente', ('2007-01-29T22:27:39Z', '2007-01-31T20:57:04Z')),\n",
       " ('Javilondio7', ('2007-03-19T20:09:43Z', '2007-05-31T00:16:57Z')),\n",
       " ('CHOY SAN SANTA VICTORIA', ('2007-05-26T03:07:35Z', '2007-05-26T03:19:01Z')),\n",
       " ('Sonvalidoslosnombresconcomillas\"\"\"',\n",
       "  ('2007-05-28T21:04:48Z', '2007-05-28T21:05:18Z')),\n",
       " ('Rafax1984', ('2007-06-18T14:48:59Z', '2007-09-01T00:35:08Z')),\n",
       " ('Aknaxedon', ('2007-07-04T15:38:11Z', '2009-07-06T13:32:32Z')),\n",
       " ('L678277198', ('2007-09-05T17:57:47Z', '2007-09-09T15:21:10Z'))]"
      ]
     },
     "execution_count": 7,
     "metadata": {},
     "output_type": "execute_result"
    }
   ],
   "source": [
    "rdduserduration = rddnewacc.join(rddblocks).cache()\n",
    "rdduserduration.take(10)"
   ]
  },
  {
   "cell_type": "code",
   "execution_count": 8,
   "metadata": {},
   "outputs": [
    {
     "data": {
      "text/plain": [
       "[('Bloquearmeeeeeeeeeee', Timedelta('4839 days 08:01:42')),\n",
       " ('Cagabot', Timedelta('0 days 00:06:02')),\n",
       " (\"D'Alembert~eswiki\", Timedelta('4 days 12:46:53')),\n",
       " ('Dekadente', Timedelta('1 days 22:29:25')),\n",
       " ('Javilondio7', Timedelta('72 days 04:07:14')),\n",
       " ('CHOY SAN SANTA VICTORIA', Timedelta('0 days 00:11:26')),\n",
       " ('Sonvalidoslosnombresconcomillas\"\"\"', Timedelta('0 days 00:00:30')),\n",
       " ('Rafax1984', Timedelta('74 days 09:46:09')),\n",
       " ('Aknaxedon', Timedelta('732 days 21:54:21')),\n",
       " ('L678277198', Timedelta('3 days 21:23:23')),\n",
       " ('Negracandelaria', Timedelta('1494 days 14:49:47')),\n",
       " ('Fucktomas', Timedelta('0 days 04:08:22')),\n",
       " ('Miguel-rubio-10', Timedelta('0 days 00:06:40')),\n",
       " ('Miik Ezdanitofff', Timedelta('115 days 19:29:15')),\n",
       " ('El q me banea es gay', Timedelta('0 days 00:05:20')),\n",
       " ('Inexistente', Timedelta('0 days 00:08:51')),\n",
       " ('Congregacion Cristiana Cubana', Timedelta('5 days 01:28:57')),\n",
       " ('Changosferch123', Timedelta('0 days 00:49:13')),\n",
       " ('Demian22Chito', Timedelta('7 days 23:50:34')),\n",
       " ('Green24', Timedelta('0 days 00:12:19'))]"
      ]
     },
     "execution_count": 8,
     "metadata": {},
     "output_type": "execute_result"
    }
   ],
   "source": [
    "# calculo la duracion de los usuarios hasta ser bloqueados\n",
    "rdduserduration = rdduserduration.map(lambda x : (x[0], pd.to_datetime(x[1][1], format = '%Y-%m-%dT%H:%M:%SZ') - pd.to_datetime(x[1][0], format = '%Y-%m-%dT%H:%M:%SZ'))).cache()\n",
    "rdduserduration.take(20)"
   ]
  },
  {
   "cell_type": "code",
   "execution_count": 9,
   "metadata": {},
   "outputs": [
    {
     "data": {
      "text/plain": [
       "('Unfollow Ariiana Grande 03.07.2021 7', Timedelta('0 days 00:00:04'))"
      ]
     },
     "execution_count": 9,
     "metadata": {},
     "output_type": "execute_result"
    }
   ],
   "source": [
    "# obtengo el usuario que menos tiempo duró hasta ser bloqueado\n",
    "rdduserduration.filter(lambda x: x[1] > pd.to_timedelta(0)).reduce(lambda a,b : a if a[1] <= b[1] else b)"
   ]
  },
  {
   "cell_type": "markdown",
   "metadata": {},
   "source": [
    "## Consulta 36\n",
    "La 3-upla de palabras más común en los comentarios de los logs"
   ]
  },
  {
   "cell_type": "code",
   "execution_count": 4,
   "metadata": {},
   "outputs": [
    {
     "name": "stderr",
     "output_type": "stream",
     "text": [
      "/mnt/882C57D72C57BEBE/Anaconda3/lib/python3.8/site-packages/IPython/core/interactiveshell.py:3146: DtypeWarning: Columns (4) have mixed types.Specify dtype option on import or set low_memory=False.\n",
      "  has_raised = await self.run_ast_nodes(code_ast.body, cell_name,\n"
     ]
    },
    {
     "data": {
      "text/plain": [
       "(('página', 'creada', 'con'), 681872)"
      ]
     },
     "execution_count": 4,
     "metadata": {},
     "output_type": "execute_result"
    }
   ],
   "source": [
    "# hago esto para poder leer el csv correctamente (propuesto por Gian)\n",
    "# logs = pd.read_csv('/mnt/882C57D72C57BEBE/gabriel/FIUBA/ORGADATOS/TP1/data/logs.csv')\n",
    "# logs.to_parquet('logs.parquet')\n",
    "# del logs\n",
    "dflogs = sqlContext.read.parquet('logs.parquet')\n",
    "rddlogs = dflogs.rdd\n",
    "\n",
    "# uso lo que hice en el punto 11\n",
    "trigram = rddlogs.flatMap(lambda entrada: ngrams(str(entrada.comment).lower().split(), 3) ).map(lambda ngram : (ngram, 1)).reduceByKey(lambda freq1,freq2 : freq1+freq2).reduce(lambda a,b : a if a[1] >= b[1] else b )\n",
    "trigram"
   ]
  },
  {
   "cell_type": "markdown",
   "metadata": {},
   "source": [
    "## Consulta 21\n",
    "El contenido con mayor cantidad de de acciones realizadas para todos los tipos\n",
    "posibles de acciones"
   ]
  },
  {
   "cell_type": "code",
   "execution_count": 3,
   "metadata": {},
   "outputs": [
    {
     "name": "stderr",
     "output_type": "stream",
     "text": [
      "/mnt/882C57D72C57BEBE/Anaconda3/lib/python3.8/site-packages/IPython/core/interactiveshell.py:3146: DtypeWarning: Columns (4) have mixed types.Specify dtype option on import or set low_memory=False.\n",
      "  has_raised = await self.run_ast_nodes(code_ast.body, cell_name,\n"
     ]
    },
    {
     "data": {
      "text/plain": [
       "[Row(item_id=1, timestamp='2004-12-23T07:10:09Z', contributor_username='Sabbut', contributor_id=2075.0, contributor_ip=None, comment=\"el contenido era: 'Si aprendés Pensamiento Científico ... TE VA S AENTERAR'\", logtype='delete', action='delete', title='Verificacionismo'),\n",
       " Row(item_id=2, timestamp='2004-12-23T07:14:09Z', contributor_username='Sabbut', contributor_id=2075.0, contributor_ip=None, comment=\"el contenido era: '{{destruir}}en algun lugar lejano pero tan cerca como el largo del cuello de una jirafa se encontraba una torre'\", logtype='delete', action='delete', title='Rapunzel'),\n",
       " Row(item_id=3, timestamp='2004-12-23T07:26:10Z', contributor_username='Sabbut', contributor_id=2075.0, contributor_ip=None, comment=\"el contenido era: '#REDIRECT [[Flash]]'\", logtype='delete', action='delete', title='Macromedia Flash')]"
      ]
     },
     "execution_count": 3,
     "metadata": {},
     "output_type": "execute_result"
    }
   ],
   "source": [
    "# logs = pd.read_csv('/mnt/882C57D72C57BEBE/gabriel/FIUBA/ORGADATOS/TP1/data/logs.csv')\n",
    "# logs.to_parquet('logs.parquet')\n",
    "# del logs\n",
    "dflogs = sqlContext.read.parquet('logs.parquet')\n",
    "rddlogs = dflogs.rdd\n",
    "rddlogs.take(3)"
   ]
  },
  {
   "cell_type": "code",
   "execution_count": 5,
   "metadata": {},
   "outputs": [
    {
     "data": {
      "text/plain": [
       "[Row(title='Wikipedia:Artículos solicitados', id='5', namespace='4', revision_id='132533307', parent_revision='132516631', revision_timestamp='2021-01-19T18:40:34Z', revisor_username='Metrónomo', revisor_id='1708233', revisor_ip=None, revisor_comment='Así esta mejor'),\n",
       " Row(title='Andorra', id='7', namespace='0', revision_id='138035057', parent_revision='138027475', revision_timestamp='2021-08-31T18:27:01Z', revisor_username=None, revisor_id=None, revisor_ip='2800:CD0:FC1B:A900:C5A4:9E81:7175:2ED2', revisor_comment='Añadir contenido'),\n",
       " Row(title='Argentina', id='10', namespace='0', revision_id='137966826', parent_revision='137825165', revision_timestamp='2021-08-28T17:17:54Z', revisor_username='Traitrich', revisor_id='4642283', revisor_ip=None, revisor_comment='Reemplazos con [[Usuario:Benjavalero/Replacer|Replacer]]: «simbolos»')]"
      ]
     },
     "execution_count": 5,
     "metadata": {},
     "output_type": "execute_result"
    }
   ],
   "source": [
    "dfcontents = sqlContext.read.csv('/mnt/882C57D72C57BEBE/gabriel/FIUBA/ORGADATOS/TP1/data/contents.csv', header=True, inferSchema=True)\n",
    "rddcontents = dfcontents.rdd\n",
    "rddcontents.take(3)"
   ]
  },
  {
   "cell_type": "code",
   "execution_count": 4,
   "metadata": {},
   "outputs": [
    {
     "data": {
      "text/plain": [
       "[('Verificacionismo', 'delete'),\n",
       " ('Rapunzel', 'delete'),\n",
       " ('Macromedia Flash', 'delete'),\n",
       " ('Archivo:Gnu head.png', 'delete'),\n",
       " ('Archivo:Gnu-head-sm.jpg', 'delete'),\n",
       " ('Usuario:212.55.30.157', 'block'),\n",
       " ('Archivo:La florida.jpg', 'upload'),\n",
       " ('Archivo:La florida uoct.jpg', 'upload'),\n",
       " ('Archivo:Pablo zalaquett.jpg', 'upload'),\n",
       " ('Archivo:Szymborska znaczek.jpg', 'delete')]"
      ]
     },
     "execution_count": 4,
     "metadata": {},
     "output_type": "execute_result"
    }
   ],
   "source": [
    "# obtengo las tuplas (titulo del log, accion)\n",
    "items = rddlogs.map(lambda x: (x.title, x.action)).cache()\n",
    "items.take(10)"
   ]
  },
  {
   "cell_type": "code",
   "execution_count": 6,
   "metadata": {},
   "outputs": [
    {
     "data": {
      "text/plain": [
       "[('Wikipedia:Artículos solicitados', 1),\n",
       " ('Andorra', 1),\n",
       " ('Argentina', 1),\n",
       " ('Geografía de Andorra', 1),\n",
       " ('Demografía de Andorra', 1),\n",
       " ('Comunicaciones de Andorra', 1),\n",
       " ('Artes visuales', 1),\n",
       " ('Agricultura', 1),\n",
       " ('Astronomía galáctica', 1),\n",
       " ('ASCII', 1)]"
      ]
     },
     "execution_count": 6,
     "metadata": {},
     "output_type": "execute_result"
    }
   ],
   "source": [
    "# obtuve las tuplas (titulo del contenido, 1) ahora porque si queria agregar el 1 después para contar apariciones tenia errores y esta me pareció una buena forma de solucionarlo\n",
    "titulos = rddcontents.map(lambda x: (x.title, 1)).cache()\n",
    "titulos.take(10)"
   ]
  },
  {
   "cell_type": "code",
   "execution_count": 7,
   "metadata": {},
   "outputs": [
    {
     "data": {
      "text/plain": [
       "[('Geografía de Kiribati', ('delete', 1)),\n",
       " ('Joonia', ('delete', 1)),\n",
       " ('Joonia', ('delete', 1)),\n",
       " ('Voto electrónico', ('delete', 1)),\n",
       " ('Isidro Nonell', ('delete', 1)),\n",
       " ('Isidro Nonell', ('delete', 1)),\n",
       " ('Isidro Nonell', ('move_redir', 1)),\n",
       " ('Isidro Nonell', ('delete_redir', 1)),\n",
       " ('Primera Epístola a Timoteo', ('delete', 1)),\n",
       " ('Primera Epístola a Timoteo', ('delete', 1))]"
      ]
     },
     "execution_count": 7,
     "metadata": {},
     "output_type": "execute_result"
    }
   ],
   "source": [
    "# me quedo solo con los titulos que corresponden a contenidos y su accion\n",
    "contenidos = items.join(titulos).cache()\n",
    "contenidos.take(10)"
   ]
  },
  {
   "cell_type": "code",
   "execution_count": 8,
   "metadata": {},
   "outputs": [
    {
     "data": {
      "text/plain": [
       "[(('Primera Epístola a Timoteo', 'move'), 1),\n",
       " (('Tsubaki', 'move'), 1),\n",
       " (('Nombre chino', 'move'), 1),\n",
       " (('Club Atlético San Lorenzo de Almagro', 'unprotect'), 1),\n",
       " (('Luco', 'move'), 1),\n",
       " (('Tigre (Buenos Aires)', 'move'), 1),\n",
       " (('Nacho', 'move'), 1),\n",
       " (('San Próspero', 'move'), 1),\n",
       " (('Osorno', 'move'), 5),\n",
       " (('Equus asinus', 'move'), 2)]"
      ]
     },
     "execution_count": 8,
     "metadata": {},
     "output_type": "execute_result"
    }
   ],
   "source": [
    "# cuento la cantidad de veces que se produjo cada par (titulo, accion), osea cantidad de veces que se le aplicó esa accion a ese contenido\n",
    "contenidos = contenidos.map(lambda x : ((x[0],x[1][0]), x[1][1])).reduceByKey(lambda a,b : a+b).cache()\n",
    "contenidos.take(10)"
   ]
  },
  {
   "cell_type": "code",
   "execution_count": 9,
   "metadata": {},
   "outputs": [
    {
     "data": {
      "text/plain": [
       "[('move', ('Primera Epístola a Timoteo', 1)),\n",
       " ('move', ('Tsubaki', 1)),\n",
       " ('move', ('Nombre chino', 1)),\n",
       " ('unprotect', ('Club Atlético San Lorenzo de Almagro', 1)),\n",
       " ('move', ('Luco', 1)),\n",
       " ('move', ('Tigre (Buenos Aires)', 1)),\n",
       " ('move', ('Nacho', 1)),\n",
       " ('move', ('San Próspero', 1)),\n",
       " ('move', ('Osorno', 5)),\n",
       " ('move', ('Equus asinus', 2))]"
      ]
     },
     "execution_count": 9,
     "metadata": {},
     "output_type": "execute_result"
    }
   ],
   "source": [
    "# elimino los que no tienen titulo y reordeno las entradas de forma (accion, (titulo, cantidad))\n",
    "contenidos = contenidos.filter(lambda x: x[0][0] != None).map(lambda x : (x[0][1], (x[0][0], x[1]))).cache()\n",
    "contenidos.take(10)"
   ]
  },
  {
   "cell_type": "code",
   "execution_count": 10,
   "metadata": {},
   "outputs": [
    {
     "data": {
      "text/plain": [
       "[('update', ('Wikipedia:Portada', 513)),\n",
       " ('revision', ('Wikipedia:Vandalismo en curso', 310)),\n",
       " ('delete', ('Anexo:Wikipedias', 100)),\n",
       " ('restore', ('Plantilla:Ficha de entidad subnacional', 64)),\n",
       " ('modify',\n",
       "  ('Wikipedia:Tablón de anuncios de los bibliotecarios/Portal/Archivo/Miscelánea/Actual',\n",
       "   61)),\n",
       " ('move', ('Plantilla:Ficha de entidad subnacional', 59)),\n",
       " ('move_prot', ('Plantilla:Ficha de entidad subnacional', 50)),\n",
       " ('protect',\n",
       "  ('Wikipedia:Tablón de anuncios de los bibliotecarios/Portal/Archivo/Solicitudes de nueva consulta/Actual',\n",
       "   46)),\n",
       " ('add', ('Testimonio', 31)),\n",
       " ('create', ('Himawari Uzumaki', 15))]"
      ]
     },
     "execution_count": 10,
     "metadata": {},
     "output_type": "execute_result"
    }
   ],
   "source": [
    "# me quedo solo con los titulos con masyor cantidad por cada accion y ordeno las entradas de mayor a menor cantidad de apariciones para que se vea mas lindo :) \n",
    "contenidos.reduceByKey(lambda a,b : a if a[1] >= b[1] else b).takeOrdered(10, lambda x: -x[1][1])"
   ]
  }
 ],
 "metadata": {
  "kernelspec": {
   "display_name": "Python 3",
   "language": "python",
   "name": "python3"
  },
  "language_info": {
   "codemirror_mode": {
    "name": "ipython",
    "version": 3
   },
   "file_extension": ".py",
   "mimetype": "text/x-python",
   "name": "python",
   "nbconvert_exporter": "python",
   "pygments_lexer": "ipython3",
   "version": "3.8.5"
  }
 },
 "nbformat": 4,
 "nbformat_minor": 4
}
