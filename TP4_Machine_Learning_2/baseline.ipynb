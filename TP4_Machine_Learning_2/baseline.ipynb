{
 "cells": [
  {
   "cell_type": "code",
   "execution_count": 1,
   "metadata": {},
   "outputs": [],
   "source": [
    "%config Completer.use_jedi = False\n",
    "import pandas as pd\n",
    "import numpy as np\n",
    "import os\n",
    "import random\n",
    "from PIL import Image\n",
    "import copy\n",
    "import umap\n",
    "from sklearn.cluster import AgglomerativeClustering, KMeans\n",
    "from sklearn.preprocessing import StandardScaler\n",
    "import matplotlib.pyplot as plt\n",
    "import seaborn as sns\n",
    "import pandas as pd\n",
    "from sklearn.metrics import normalized_mutual_info_score"
   ]
  },
  {
   "cell_type": "code",
   "execution_count": 25,
   "metadata": {},
   "outputs": [],
   "source": [
    "# cargo listas de train, val y test\n",
    "import pickle\n",
    "with open('data/test', 'rb') as file:\n",
    "    test = pickle.load(file)\n",
    "with open('data/test_labels', 'rb') as file:\n",
    "    test_labels = pickle.load(file)\n",
    "with open('data/validation', 'rb') as file:\n",
    "    validation = pickle.load(file)\n",
    "with open('data/validation_labels', 'rb') as file:\n",
    "    validation_labels = pickle.load(file)\n",
    "with open('data/train', 'rb') as file:\n",
    "    train = pickle.load(file)\n",
    "with open('data/train_labels', 'rb') as file:\n",
    "    train_labels = pickle.load(file)"
   ]
  },
  {
   "cell_type": "code",
   "execution_count": 26,
   "metadata": {},
   "outputs": [],
   "source": [
    "scaled_train = StandardScaler().fit_transform(train)\n",
    "scaled_val = StandardScaler().fit_transform(validation)\n",
    "scaled_test = StandardScaler().fit_transform(test)"
   ]
  },
  {
   "cell_type": "code",
   "execution_count": 27,
   "metadata": {},
   "outputs": [
    {
     "data": {
      "text/plain": [
       "UMAP(n_components=300, n_neighbors=45, random_state=22, tqdm_kwds={'bar_format': '{desc}: {percentage:3.0f}%| {bar} {n_fmt}/{total_fmt} [{elapsed}]', 'desc': 'Epochs completed', 'disable': True})"
      ]
     },
     "execution_count": 27,
     "metadata": {},
     "output_type": "execute_result"
    }
   ],
   "source": [
    "reducer300 = umap.UMAP(random_state=22, n_components=300, n_neighbors=45)\n",
    "reducer300.fit(scaled_train)"
   ]
  },
  {
   "cell_type": "code",
   "execution_count": 28,
   "metadata": {},
   "outputs": [
    {
     "name": "stderr",
     "output_type": "stream",
     "text": [
      "/mnt/882C57D72C57BEBE/Anaconda3/lib/python3.8/site-packages/scipy/sparse/_index.py:124: SparseEfficiencyWarning: Changing the sparsity structure of a csr_matrix is expensive. lil_matrix is more efficient.\n",
      "  self._set_arrayXarray(i, j, x)\n"
     ]
    }
   ],
   "source": [
    "valReduced300 = reducer300.transform(scaled_val)"
   ]
  },
  {
   "cell_type": "code",
   "execution_count": 29,
   "metadata": {},
   "outputs": [],
   "source": [
    "testReduced300 = reducer300.transform(scaled_test)"
   ]
  },
  {
   "cell_type": "code",
   "execution_count": 31,
   "metadata": {},
   "outputs": [],
   "source": [
    "# los guardo porque tardaron un buen rato\n",
    "with open('data/trainReduced300', 'wb') as file:\n",
    "    pickle.dump(reducer300.embedding_, file)\n",
    "with open('data/valReduced300', 'wb') as file:\n",
    "    pickle.dump(valReduced300, file)\n",
    "with open('data/testReduced300', 'wb') as file:\n",
    "    pickle.dump(testReduced300, file)"
   ]
  },
  {
   "cell_type": "code",
   "execution_count": null,
   "metadata": {},
   "outputs": [],
   "source": [
    "with open('data/trainReduced300', 'rb') as file:\n",
    "    trainReduced300 = pickle.load(file)\n",
    "with open('data/valReduced300', 'rb') as file:\n",
    "    valReduced300 = pickle.load(file)\n",
    "with open('data/testReduced300', 'rb') as file:\n",
    "    testReduced300 = pickle.load(file)"
   ]
  },
  {
   "cell_type": "code",
   "execution_count": 9,
   "metadata": {},
   "outputs": [
    {
     "name": "stdout",
     "output_type": "stream",
     "text": [
      "Initialization complete\n",
      "Iteration 0, inertia 59385.8984375\n",
      "Iteration 1, inertia 53306.921875\n",
      "Iteration 2, inertia 53249.74609375\n",
      "Iteration 3, inertia 53247.48046875\n",
      "Iteration 4, inertia 53245.37890625\n",
      "Iteration 5, inertia 53237.99609375\n",
      "Iteration 6, inertia 53190.96484375\n",
      "Iteration 7, inertia 53077.5\n",
      "Iteration 8, inertia 52977.25\n",
      "Iteration 9, inertia 52969.45703125\n",
      "Converged at iteration 9: strict convergence.\n",
      "Initialization complete\n",
      "Iteration 0, inertia 56633.29296875\n",
      "Iteration 1, inertia 51482.1484375\n",
      "Iteration 2, inertia 51456.48046875\n",
      "Iteration 3, inertia 51456.3984375\n",
      "Converged at iteration 3: center shift 3.3054686809919076e-06 within tolerance 4.663771092891693e-05.\n",
      "Initialization complete\n",
      "Iteration 0, inertia 59146.7265625\n",
      "Iteration 1, inertia 54215.43359375\n",
      "Iteration 2, inertia 54205.80078125\n",
      "Iteration 3, inertia 54205.72265625\n",
      "Converged at iteration 3: strict convergence.\n",
      "Initialization complete\n",
      "Iteration 0, inertia 61336.4921875\n",
      "Iteration 1, inertia 52632.4765625\n",
      "Iteration 2, inertia 51985.796875\n",
      "Iteration 3, inertia 51817.08984375\n",
      "Iteration 4, inertia 51670.875\n",
      "Iteration 5, inertia 51266.828125\n",
      "Iteration 6, inertia 50756.07421875\n",
      "Iteration 7, inertia 50602.734375\n",
      "Iteration 8, inertia 50391.10546875\n",
      "Iteration 9, inertia 50307.0078125\n",
      "Iteration 10, inertia 50306.390625\n",
      "Converged at iteration 10: center shift 3.67236566489737e-06 within tolerance 4.663771092891693e-05.\n",
      "Initialization complete\n",
      "Iteration 0, inertia 60571.2890625\n",
      "Iteration 1, inertia 53383.140625\n",
      "Iteration 2, inertia 53300.83203125\n",
      "Iteration 3, inertia 53246.4375\n",
      "Iteration 4, inertia 53192.26171875\n",
      "Iteration 5, inertia 53132.71484375\n",
      "Iteration 6, inertia 53030.87109375\n",
      "Iteration 7, inertia 52745.25\n",
      "Iteration 8, inertia 52353.3984375\n",
      "Iteration 9, inertia 52192.65234375\n",
      "Iteration 10, inertia 52186.17578125\n",
      "Iteration 11, inertia 52158.2265625\n",
      "Iteration 12, inertia 52153.09765625\n",
      "Iteration 13, inertia 52152.80859375\n",
      "Converged at iteration 13: strict convergence.\n"
     ]
    },
    {
     "data": {
      "text/plain": [
       "KMeans(n_clusters=28, n_init=5, random_state=22, verbose=10)"
      ]
     },
     "execution_count": 9,
     "metadata": {},
     "output_type": "execute_result"
    }
   ],
   "source": [
    "kmeans = KMeans(n_clusters=28, n_init=5, verbose=10, random_state=22)\n",
    "kmeans.fit(reducer300.embedding_) #si no existe reducer300 es porque hay que cambiar reducer300.embedding_  por trainReduced300"
   ]
  },
  {
   "cell_type": "code",
   "execution_count": 10,
   "metadata": {},
   "outputs": [],
   "source": [
    "# descargo modelo\n",
    "with open('models/kmeansBaseline', 'wb') as file:\n",
    "    pickle.dump(kmeans, file)"
   ]
  },
  {
   "cell_type": "code",
   "execution_count": 32,
   "metadata": {},
   "outputs": [],
   "source": [
    "# cargo modelo\n",
    "with open('models/kmeansBaseline', 'rb') as file:\n",
    "    kmeans = pickle.load(file)"
   ]
  },
  {
   "cell_type": "code",
   "execution_count": 33,
   "metadata": {},
   "outputs": [
    {
     "data": {
      "text/plain": [
       "28"
      ]
     },
     "execution_count": 33,
     "metadata": {},
     "output_type": "execute_result"
    }
   ],
   "source": [
    "kmeans.n_clusters"
   ]
  },
  {
   "cell_type": "code",
   "execution_count": 11,
   "metadata": {},
   "outputs": [
    {
     "data": {
      "text/plain": [
       "array([ 1,  1, 26, ..., 12,  3, 26], dtype=int32)"
      ]
     },
     "execution_count": 11,
     "metadata": {},
     "output_type": "execute_result"
    }
   ],
   "source": [
    "kmeans.labels_"
   ]
  },
  {
   "cell_type": "code",
   "execution_count": 12,
   "metadata": {},
   "outputs": [],
   "source": [
    "import numpy as np\n",
    "from sklearn import metrics\n",
    "# https://nlp.stanford.edu/IR-book/html/htmledition/evaluation-of-clustering-1.html#fig:clustfg3\n",
    "# https://stackoverflow.com/questions/34047540/python-clustering-purity-metric\n",
    "def purity_score(y_true, y_pred):\n",
    "    # compute contingency matrix (also called confusion matrix)\n",
    "    contingency_matrix = metrics.cluster.contingency_matrix(y_true, y_pred)\n",
    "    # return purity\n",
    "    return np.sum(np.amax(contingency_matrix, axis=0)) / np.sum(contingency_matrix)"
   ]
  },
  {
   "cell_type": "code",
   "execution_count": 14,
   "metadata": {},
   "outputs": [
    {
     "data": {
      "text/plain": [
       "0.6342834203131272"
      ]
     },
     "execution_count": 14,
     "metadata": {},
     "output_type": "execute_result"
    }
   ],
   "source": [
    "purity_score(train_labels, kmeans.labels_)"
   ]
  },
  {
   "cell_type": "code",
   "execution_count": 15,
   "metadata": {},
   "outputs": [
    {
     "data": {
      "text/plain": [
       "0.7012983135535616"
      ]
     },
     "execution_count": 15,
     "metadata": {},
     "output_type": "execute_result"
    }
   ],
   "source": [
    "normalized_mutual_info_score(train_labels, kmeans.labels_)"
   ]
  },
  {
   "cell_type": "code",
   "execution_count": 17,
   "metadata": {},
   "outputs": [],
   "source": [
    "# validation score\n",
    "val_preds = kmeans.predict(valReduced300)"
   ]
  },
  {
   "cell_type": "code",
   "execution_count": 18,
   "metadata": {},
   "outputs": [
    {
     "data": {
      "text/plain": [
       "0.632368703108253"
      ]
     },
     "execution_count": 18,
     "metadata": {},
     "output_type": "execute_result"
    }
   ],
   "source": [
    "purity_score(validation_labels, val_preds)"
   ]
  },
  {
   "cell_type": "code",
   "execution_count": 19,
   "metadata": {},
   "outputs": [
    {
     "data": {
      "text/plain": [
       "0.7058476819209059"
      ]
     },
     "execution_count": 19,
     "metadata": {},
     "output_type": "execute_result"
    }
   ],
   "source": [
    "normalized_mutual_info_score(validation_labels, val_preds)"
   ]
  },
  {
   "cell_type": "code",
   "execution_count": 21,
   "metadata": {},
   "outputs": [],
   "source": [
    "# test score\n",
    "test_preds = kmeans.predict(testReduced300)"
   ]
  },
  {
   "cell_type": "code",
   "execution_count": 22,
   "metadata": {},
   "outputs": [
    {
     "data": {
      "text/plain": [
       "0.6420150053590568"
      ]
     },
     "execution_count": 22,
     "metadata": {},
     "output_type": "execute_result"
    }
   ],
   "source": [
    "purity_score(test_labels, test_preds)"
   ]
  },
  {
   "cell_type": "code",
   "execution_count": 23,
   "metadata": {},
   "outputs": [
    {
     "data": {
      "text/plain": [
       "0.7005482788789146"
      ]
     },
     "execution_count": 23,
     "metadata": {},
     "output_type": "execute_result"
    }
   ],
   "source": [
    "normalized_mutual_info_score(test_labels, test_preds)"
   ]
  },
  {
   "cell_type": "code",
   "execution_count": null,
   "metadata": {},
   "outputs": [],
   "source": []
  }
 ],
 "metadata": {
  "kernelspec": {
   "display_name": "Python 3",
   "language": "python",
   "name": "python3"
  },
  "language_info": {
   "codemirror_mode": {
    "name": "ipython",
    "version": 3
   },
   "file_extension": ".py",
   "mimetype": "text/x-python",
   "name": "python",
   "nbconvert_exporter": "python",
   "pygments_lexer": "ipython3",
   "version": "3.8.5"
  }
 },
 "nbformat": 4,
 "nbformat_minor": 4
}
