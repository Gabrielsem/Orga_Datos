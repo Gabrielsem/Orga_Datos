{
 "cells": [
  {
   "cell_type": "markdown",
   "metadata": {
    "id": "gv9EKJSAvmr4"
   },
   "source": [
    "function KeepClicking(){\n",
    "console.log(\"Clicking\");\n",
    "document.querySelector(\"colab-connect-button\").click()\n",
    "}\n",
    "setInterval(KeepClicking,60000)"
   ]
  },
  {
   "cell_type": "code",
   "execution_count": 1,
   "metadata": {
    "colab": {
     "base_uri": "https://localhost:8080/"
    },
    "id": "GxDD20CnHB1g",
    "outputId": "46b4f645-3153-4c18-8b73-6ca0da7923de"
   },
   "outputs": [],
   "source": [
    "%config Completer.use_jedi = True\n",
    "from sklearn.linear_model import LogisticRegression\n",
    "import numpy as np\n",
    "import math\n",
    "from tqdm import tqdm\n",
    "import pandas as pd\n",
    "import sklearn\n",
    "import seaborn as sns\n",
    "from sklearn.metrics import classification_report, accuracy_score, roc_auc_score, ConfusionMatrixDisplay, confusion_matrix\n",
    "from sklearn.model_selection import RandomizedSearchCV\n",
    "sns.set(style=\"darkgrid\",rc={'figure.figsize':(15,8)})\n",
    "\n",
    "\n",
    "from sklearn.ensemble import RandomForestClassifier\n"
   ]
  },
  {
   "cell_type": "code",
   "execution_count": null,
   "metadata": {
    "colab": {
     "base_uri": "https://localhost:8080/"
    },
    "id": "XS2udVK9HEwu",
    "outputId": "49b673db-af4f-4ca2-d9bf-dadcf57ec998"
   },
   "outputs": [],
   "source": [
    "from google.colab import drive\n",
    "drive.mount('/content/drive')"
   ]
  },
  {
   "cell_type": "code",
   "execution_count": 3,
   "metadata": {
    "id": "m_8P7eOwHB1u"
   },
   "outputs": [],
   "source": [
    "def mean_encoder(df, featureNames, targetName):\n",
    "    dict_mappings = {}\n",
    "    for feature in featureNames:\n",
    "        Mean_encoded_feature = df.groupby([feature])[targetName].mean().to_dict()\n",
    "        df[feature] =  df[feature].map(Mean_encoded_feature).astype(float, errors = 'raise')\n",
    "        dict_mappings[feature] = Mean_encoded_feature\n",
    "    return dict_mappings"
   ]
  },
  {
   "cell_type": "markdown",
   "metadata": {
    "id": "sCC26rF4HB1w"
   },
   "source": [
    "trainTransact = pd.read_csv('data/train_transaction.csv')\n",
    "trainId = pd.read_csv('data/train_identity.csv')"
   ]
  },
  {
   "cell_type": "markdown",
   "metadata": {
    "id": "CNo5qyTDHB1z"
   },
   "source": [
    "trainTransact.set_index('TransactionID',inplace=True)\n",
    "trainId.set_index('TransactionID',inplace=True)"
   ]
  },
  {
   "cell_type": "code",
   "execution_count": 4,
   "metadata": {
    "colab": {
     "base_uri": "https://localhost:8080/",
     "height": 478
    },
    "id": "seS9WbV4HB12",
    "outputId": "51ce635e-d99e-4ee8-b2bc-aedc729f32fd"
   },
   "outputs": [
    {
     "data": {
      "text/html": [
       "<div>\n",
       "<style scoped>\n",
       "    .dataframe tbody tr th:only-of-type {\n",
       "        vertical-align: middle;\n",
       "    }\n",
       "\n",
       "    .dataframe tbody tr th {\n",
       "        vertical-align: top;\n",
       "    }\n",
       "\n",
       "    .dataframe thead th {\n",
       "        text-align: right;\n",
       "    }\n",
       "</style>\n",
       "<table border=\"1\" class=\"dataframe\">\n",
       "  <thead>\n",
       "    <tr style=\"text-align: right;\">\n",
       "      <th></th>\n",
       "      <th>isFraud</th>\n",
       "      <th>TransactionDT</th>\n",
       "      <th>TransactionAmt</th>\n",
       "      <th>ProductCD</th>\n",
       "      <th>card1</th>\n",
       "      <th>card2</th>\n",
       "      <th>card3</th>\n",
       "      <th>card4</th>\n",
       "      <th>card5</th>\n",
       "      <th>card6</th>\n",
       "      <th>...</th>\n",
       "      <th>id_31</th>\n",
       "      <th>id_32</th>\n",
       "      <th>id_33</th>\n",
       "      <th>id_34</th>\n",
       "      <th>id_35</th>\n",
       "      <th>id_36</th>\n",
       "      <th>id_37</th>\n",
       "      <th>id_38</th>\n",
       "      <th>DeviceType</th>\n",
       "      <th>DeviceInfo</th>\n",
       "    </tr>\n",
       "  </thead>\n",
       "  <tbody>\n",
       "    <tr>\n",
       "      <th>0</th>\n",
       "      <td>0</td>\n",
       "      <td>86400</td>\n",
       "      <td>68.50</td>\n",
       "      <td>W</td>\n",
       "      <td>13926</td>\n",
       "      <td>NaN</td>\n",
       "      <td>150.0</td>\n",
       "      <td>discover</td>\n",
       "      <td>142.0</td>\n",
       "      <td>credit</td>\n",
       "      <td>...</td>\n",
       "      <td>NaN</td>\n",
       "      <td>NaN</td>\n",
       "      <td>NaN</td>\n",
       "      <td>NaN</td>\n",
       "      <td>NaN</td>\n",
       "      <td>NaN</td>\n",
       "      <td>NaN</td>\n",
       "      <td>NaN</td>\n",
       "      <td>NaN</td>\n",
       "      <td>NaN</td>\n",
       "    </tr>\n",
       "    <tr>\n",
       "      <th>1</th>\n",
       "      <td>0</td>\n",
       "      <td>86401</td>\n",
       "      <td>29.00</td>\n",
       "      <td>W</td>\n",
       "      <td>2755</td>\n",
       "      <td>404.0</td>\n",
       "      <td>150.0</td>\n",
       "      <td>mastercard</td>\n",
       "      <td>102.0</td>\n",
       "      <td>credit</td>\n",
       "      <td>...</td>\n",
       "      <td>NaN</td>\n",
       "      <td>NaN</td>\n",
       "      <td>NaN</td>\n",
       "      <td>NaN</td>\n",
       "      <td>NaN</td>\n",
       "      <td>NaN</td>\n",
       "      <td>NaN</td>\n",
       "      <td>NaN</td>\n",
       "      <td>NaN</td>\n",
       "      <td>NaN</td>\n",
       "    </tr>\n",
       "    <tr>\n",
       "      <th>2</th>\n",
       "      <td>0</td>\n",
       "      <td>86469</td>\n",
       "      <td>59.00</td>\n",
       "      <td>W</td>\n",
       "      <td>4663</td>\n",
       "      <td>490.0</td>\n",
       "      <td>150.0</td>\n",
       "      <td>visa</td>\n",
       "      <td>166.0</td>\n",
       "      <td>debit</td>\n",
       "      <td>...</td>\n",
       "      <td>NaN</td>\n",
       "      <td>NaN</td>\n",
       "      <td>NaN</td>\n",
       "      <td>NaN</td>\n",
       "      <td>NaN</td>\n",
       "      <td>NaN</td>\n",
       "      <td>NaN</td>\n",
       "      <td>NaN</td>\n",
       "      <td>NaN</td>\n",
       "      <td>NaN</td>\n",
       "    </tr>\n",
       "    <tr>\n",
       "      <th>3</th>\n",
       "      <td>0</td>\n",
       "      <td>86499</td>\n",
       "      <td>50.00</td>\n",
       "      <td>W</td>\n",
       "      <td>18132</td>\n",
       "      <td>567.0</td>\n",
       "      <td>150.0</td>\n",
       "      <td>mastercard</td>\n",
       "      <td>117.0</td>\n",
       "      <td>debit</td>\n",
       "      <td>...</td>\n",
       "      <td>NaN</td>\n",
       "      <td>NaN</td>\n",
       "      <td>NaN</td>\n",
       "      <td>NaN</td>\n",
       "      <td>NaN</td>\n",
       "      <td>NaN</td>\n",
       "      <td>NaN</td>\n",
       "      <td>NaN</td>\n",
       "      <td>NaN</td>\n",
       "      <td>NaN</td>\n",
       "    </tr>\n",
       "    <tr>\n",
       "      <th>4</th>\n",
       "      <td>0</td>\n",
       "      <td>86506</td>\n",
       "      <td>50.00</td>\n",
       "      <td>H</td>\n",
       "      <td>4497</td>\n",
       "      <td>514.0</td>\n",
       "      <td>150.0</td>\n",
       "      <td>mastercard</td>\n",
       "      <td>102.0</td>\n",
       "      <td>credit</td>\n",
       "      <td>...</td>\n",
       "      <td>samsung browser 6.2</td>\n",
       "      <td>32.0</td>\n",
       "      <td>2220x1080</td>\n",
       "      <td>match_status:2</td>\n",
       "      <td>T</td>\n",
       "      <td>F</td>\n",
       "      <td>T</td>\n",
       "      <td>T</td>\n",
       "      <td>mobile</td>\n",
       "      <td>SAMSUNG SM-G892A Build/NRD90M</td>\n",
       "    </tr>\n",
       "    <tr>\n",
       "      <th>...</th>\n",
       "      <td>...</td>\n",
       "      <td>...</td>\n",
       "      <td>...</td>\n",
       "      <td>...</td>\n",
       "      <td>...</td>\n",
       "      <td>...</td>\n",
       "      <td>...</td>\n",
       "      <td>...</td>\n",
       "      <td>...</td>\n",
       "      <td>...</td>\n",
       "      <td>...</td>\n",
       "      <td>...</td>\n",
       "      <td>...</td>\n",
       "      <td>...</td>\n",
       "      <td>...</td>\n",
       "      <td>...</td>\n",
       "      <td>...</td>\n",
       "      <td>...</td>\n",
       "      <td>...</td>\n",
       "      <td>...</td>\n",
       "      <td>...</td>\n",
       "    </tr>\n",
       "    <tr>\n",
       "      <th>590535</th>\n",
       "      <td>0</td>\n",
       "      <td>15811047</td>\n",
       "      <td>49.00</td>\n",
       "      <td>W</td>\n",
       "      <td>6550</td>\n",
       "      <td>NaN</td>\n",
       "      <td>150.0</td>\n",
       "      <td>visa</td>\n",
       "      <td>226.0</td>\n",
       "      <td>debit</td>\n",
       "      <td>...</td>\n",
       "      <td>NaN</td>\n",
       "      <td>NaN</td>\n",
       "      <td>NaN</td>\n",
       "      <td>NaN</td>\n",
       "      <td>NaN</td>\n",
       "      <td>NaN</td>\n",
       "      <td>NaN</td>\n",
       "      <td>NaN</td>\n",
       "      <td>NaN</td>\n",
       "      <td>NaN</td>\n",
       "    </tr>\n",
       "    <tr>\n",
       "      <th>590536</th>\n",
       "      <td>0</td>\n",
       "      <td>15811049</td>\n",
       "      <td>39.50</td>\n",
       "      <td>W</td>\n",
       "      <td>10444</td>\n",
       "      <td>225.0</td>\n",
       "      <td>150.0</td>\n",
       "      <td>mastercard</td>\n",
       "      <td>224.0</td>\n",
       "      <td>debit</td>\n",
       "      <td>...</td>\n",
       "      <td>NaN</td>\n",
       "      <td>NaN</td>\n",
       "      <td>NaN</td>\n",
       "      <td>NaN</td>\n",
       "      <td>NaN</td>\n",
       "      <td>NaN</td>\n",
       "      <td>NaN</td>\n",
       "      <td>NaN</td>\n",
       "      <td>NaN</td>\n",
       "      <td>NaN</td>\n",
       "    </tr>\n",
       "    <tr>\n",
       "      <th>590537</th>\n",
       "      <td>0</td>\n",
       "      <td>15811079</td>\n",
       "      <td>30.95</td>\n",
       "      <td>W</td>\n",
       "      <td>12037</td>\n",
       "      <td>595.0</td>\n",
       "      <td>150.0</td>\n",
       "      <td>mastercard</td>\n",
       "      <td>224.0</td>\n",
       "      <td>debit</td>\n",
       "      <td>...</td>\n",
       "      <td>NaN</td>\n",
       "      <td>NaN</td>\n",
       "      <td>NaN</td>\n",
       "      <td>NaN</td>\n",
       "      <td>NaN</td>\n",
       "      <td>NaN</td>\n",
       "      <td>NaN</td>\n",
       "      <td>NaN</td>\n",
       "      <td>NaN</td>\n",
       "      <td>NaN</td>\n",
       "    </tr>\n",
       "    <tr>\n",
       "      <th>590538</th>\n",
       "      <td>0</td>\n",
       "      <td>15811088</td>\n",
       "      <td>117.00</td>\n",
       "      <td>W</td>\n",
       "      <td>7826</td>\n",
       "      <td>481.0</td>\n",
       "      <td>150.0</td>\n",
       "      <td>mastercard</td>\n",
       "      <td>224.0</td>\n",
       "      <td>debit</td>\n",
       "      <td>...</td>\n",
       "      <td>NaN</td>\n",
       "      <td>NaN</td>\n",
       "      <td>NaN</td>\n",
       "      <td>NaN</td>\n",
       "      <td>NaN</td>\n",
       "      <td>NaN</td>\n",
       "      <td>NaN</td>\n",
       "      <td>NaN</td>\n",
       "      <td>NaN</td>\n",
       "      <td>NaN</td>\n",
       "    </tr>\n",
       "    <tr>\n",
       "      <th>590539</th>\n",
       "      <td>0</td>\n",
       "      <td>15811131</td>\n",
       "      <td>279.95</td>\n",
       "      <td>W</td>\n",
       "      <td>15066</td>\n",
       "      <td>170.0</td>\n",
       "      <td>150.0</td>\n",
       "      <td>mastercard</td>\n",
       "      <td>102.0</td>\n",
       "      <td>credit</td>\n",
       "      <td>...</td>\n",
       "      <td>NaN</td>\n",
       "      <td>NaN</td>\n",
       "      <td>NaN</td>\n",
       "      <td>NaN</td>\n",
       "      <td>NaN</td>\n",
       "      <td>NaN</td>\n",
       "      <td>NaN</td>\n",
       "      <td>NaN</td>\n",
       "      <td>NaN</td>\n",
       "      <td>NaN</td>\n",
       "    </tr>\n",
       "  </tbody>\n",
       "</table>\n",
       "<p>590540 rows × 433 columns</p>\n",
       "</div>"
      ],
      "text/plain": [
       "        isFraud  TransactionDT  TransactionAmt ProductCD  card1  card2  card3  \\\n",
       "0             0          86400           68.50         W  13926    NaN  150.0   \n",
       "1             0          86401           29.00         W   2755  404.0  150.0   \n",
       "2             0          86469           59.00         W   4663  490.0  150.0   \n",
       "3             0          86499           50.00         W  18132  567.0  150.0   \n",
       "4             0          86506           50.00         H   4497  514.0  150.0   \n",
       "...         ...            ...             ...       ...    ...    ...    ...   \n",
       "590535        0       15811047           49.00         W   6550    NaN  150.0   \n",
       "590536        0       15811049           39.50         W  10444  225.0  150.0   \n",
       "590537        0       15811079           30.95         W  12037  595.0  150.0   \n",
       "590538        0       15811088          117.00         W   7826  481.0  150.0   \n",
       "590539        0       15811131          279.95         W  15066  170.0  150.0   \n",
       "\n",
       "             card4  card5   card6  ...                id_31  id_32      id_33  \\\n",
       "0         discover  142.0  credit  ...                  NaN    NaN        NaN   \n",
       "1       mastercard  102.0  credit  ...                  NaN    NaN        NaN   \n",
       "2             visa  166.0   debit  ...                  NaN    NaN        NaN   \n",
       "3       mastercard  117.0   debit  ...                  NaN    NaN        NaN   \n",
       "4       mastercard  102.0  credit  ...  samsung browser 6.2   32.0  2220x1080   \n",
       "...            ...    ...     ...  ...                  ...    ...        ...   \n",
       "590535        visa  226.0   debit  ...                  NaN    NaN        NaN   \n",
       "590536  mastercard  224.0   debit  ...                  NaN    NaN        NaN   \n",
       "590537  mastercard  224.0   debit  ...                  NaN    NaN        NaN   \n",
       "590538  mastercard  224.0   debit  ...                  NaN    NaN        NaN   \n",
       "590539  mastercard  102.0  credit  ...                  NaN    NaN        NaN   \n",
       "\n",
       "                 id_34 id_35 id_36  id_37  id_38  DeviceType  \\\n",
       "0                  NaN   NaN   NaN    NaN    NaN         NaN   \n",
       "1                  NaN   NaN   NaN    NaN    NaN         NaN   \n",
       "2                  NaN   NaN   NaN    NaN    NaN         NaN   \n",
       "3                  NaN   NaN   NaN    NaN    NaN         NaN   \n",
       "4       match_status:2     T     F      T      T      mobile   \n",
       "...                ...   ...   ...    ...    ...         ...   \n",
       "590535             NaN   NaN   NaN    NaN    NaN         NaN   \n",
       "590536             NaN   NaN   NaN    NaN    NaN         NaN   \n",
       "590537             NaN   NaN   NaN    NaN    NaN         NaN   \n",
       "590538             NaN   NaN   NaN    NaN    NaN         NaN   \n",
       "590539             NaN   NaN   NaN    NaN    NaN         NaN   \n",
       "\n",
       "                           DeviceInfo  \n",
       "0                                 NaN  \n",
       "1                                 NaN  \n",
       "2                                 NaN  \n",
       "3                                 NaN  \n",
       "4       SAMSUNG SM-G892A Build/NRD90M  \n",
       "...                               ...  \n",
       "590535                            NaN  \n",
       "590536                            NaN  \n",
       "590537                            NaN  \n",
       "590538                            NaN  \n",
       "590539                            NaN  \n",
       "\n",
       "[590540 rows x 433 columns]"
      ]
     },
     "execution_count": 4,
     "metadata": {},
     "output_type": "execute_result"
    }
   ],
   "source": [
    "#train = trainTransact.join(trainId, how= 'outer')\n",
    "train = pd.read_csv('trainSet.csv').drop(columns='TransactionID')\n",
    "train"
   ]
  },
  {
   "cell_type": "code",
   "execution_count": 5,
   "metadata": {
    "id": "9MeBb9FRHB14"
   },
   "outputs": [],
   "source": [
    "# separo el 10% del train para usarlo de validation\n",
    "fechaCorte = int((train['TransactionDT'].max() - train['TransactionDT'].min()) *0.9) + train['TransactionDT'].min()\n",
    "validationSet = train.loc[train['TransactionDT'] > fechaCorte]\n",
    "validationSetX = validationSet.drop(columns='isFraud')\n",
    "validationSetY = validationSet['isFraud']"
   ]
  },
  {
   "cell_type": "code",
   "execution_count": 6,
   "metadata": {
    "id": "IR55htWpHB15"
   },
   "outputs": [],
   "source": [
    "train = train.loc[train['TransactionDT'] <= fechaCorte]"
   ]
  },
  {
   "cell_type": "code",
   "execution_count": 7,
   "metadata": {
    "colab": {
     "base_uri": "https://localhost:8080/"
    },
    "id": "ITdIIeYDHB16",
    "outputId": "6af8e53b-6ec0-4a4a-e528-5042529067c4"
   },
   "outputs": [
    {
     "name": "stderr",
     "output_type": "stream",
     "text": [
      "<ipython-input-3-33bc16ff3a99>:5: SettingWithCopyWarning: \n",
      "A value is trying to be set on a copy of a slice from a DataFrame.\n",
      "Try using .loc[row_indexer,col_indexer] = value instead\n",
      "\n",
      "See the caveats in the documentation: https://pandas.pydata.org/pandas-docs/stable/user_guide/indexing.html#returning-a-view-versus-a-copy\n",
      "  df[feature] =  df[feature].map(Mean_encoded_feature).astype(float, errors = 'raise')\n"
     ]
    }
   ],
   "source": [
    "# encoding de trainX\n",
    "mappings = mean_encoder(train, ['ProductCD', 'card4', 'card6', 'P_emaildomain', 'R_emaildomain', 'M1', 'M2','M3','M4','M5','M6','M7','M8','M9', 'id_12', 'id_15', 'id_16', 'id_23', 'id_27','id_28','id_29','id_30','id_31','id_33','id_34','id_35','id_36','id_37','id_38','DeviceType','DeviceInfo'], 'isFraud')\n",
    "# encoding de validationX\n",
    "for feature, mapsDict in mappings.items():\n",
    "    validationSetX[feature] = validationSetX[feature].map(mapsDict)"
   ]
  },
  {
   "cell_type": "code",
   "execution_count": 8,
   "metadata": {
    "id": "ad6RiLDLHB19"
   },
   "outputs": [],
   "source": [
    "trainX = train.drop(columns='isFraud')\n",
    "trainY = train['isFraud']"
   ]
  },
  {
   "cell_type": "code",
   "execution_count": 9,
   "metadata": {
    "id": "knB9ZZeJHB1-"
   },
   "outputs": [],
   "source": [
    "trainX.fillna(value=0, inplace=True)\n",
    "validationSetX.fillna(value=0, inplace=True)"
   ]
  },
  {
   "cell_type": "code",
   "execution_count": null,
   "metadata": {
    "colab": {
     "base_uri": "https://localhost:8080/"
    },
    "id": "BvbIWVLhHB2J",
    "outputId": "f5783a02-0a8e-4786-bdd7-11a83a3b3973"
   },
   "outputs": [
    {
     "name": "stdout",
     "output_type": "stream",
     "text": [
      "Fitting 3 folds for each of 4 candidates, totalling 12 fits\n",
      "[CV 1/3; 1/4] START C=0.5, solver=liblinear.....................................\n",
      "[CV 1/3; 1/4] END ......C=0.5, solver=liblinear;, score=0.562 total time=  14.6s\n",
      "[CV 2/3; 1/4] START C=0.5, solver=liblinear.....................................\n",
      "[CV 2/3; 1/4] END ......C=0.5, solver=liblinear;, score=0.618 total time= 1.3min\n",
      "[CV 3/3; 1/4] START C=0.5, solver=liblinear.....................................\n",
      "[CV 3/3; 1/4] END ......C=0.5, solver=liblinear;, score=0.722 total time= 1.8min\n",
      "[CV 1/3; 2/4] START C=0.2, solver=liblinear.....................................\n",
      "[CV 1/3; 2/4] END ......C=0.2, solver=liblinear;, score=0.562 total time=  12.2s\n",
      "[CV 2/3; 2/4] START C=0.2, solver=liblinear.....................................\n",
      "[CV 2/3; 2/4] END ......C=0.2, solver=liblinear;, score=0.636 total time= 1.5min\n",
      "[CV 3/3; 2/4] START C=0.2, solver=liblinear.....................................\n",
      "[CV 3/3; 2/4] END ......C=0.2, solver=liblinear;, score=0.731 total time= 1.8min\n",
      "[CV 1/3; 3/4] START C=0.2, solver=lbfgs.........................................\n",
      "[CV 1/3; 3/4] END ..........C=0.2, solver=lbfgs;, score=0.682 total time=  38.8s\n",
      "[CV 2/3; 3/4] START C=0.2, solver=lbfgs.........................................\n"
     ]
    },
    {
     "name": "stderr",
     "output_type": "stream",
     "text": [
      "/usr/local/lib/python3.7/dist-packages/sklearn/linear_model/_logistic.py:818: ConvergenceWarning: lbfgs failed to converge (status=1):\n",
      "STOP: TOTAL NO. of ITERATIONS REACHED LIMIT.\n",
      "\n",
      "Increase the number of iterations (max_iter) or scale the data as shown in:\n",
      "    https://scikit-learn.org/stable/modules/preprocessing.html\n",
      "Please also refer to the documentation for alternative solver options:\n",
      "    https://scikit-learn.org/stable/modules/linear_model.html#logistic-regression\n",
      "  extra_warning_msg=_LOGISTIC_SOLVER_CONVERGENCE_MSG,\n"
     ]
    },
    {
     "name": "stdout",
     "output_type": "stream",
     "text": [
      "[CV 2/3; 3/4] END ..........C=0.2, solver=lbfgs;, score=0.684 total time= 2.8min\n",
      "[CV 3/3; 3/4] START C=0.2, solver=lbfgs.........................................\n"
     ]
    },
    {
     "name": "stderr",
     "output_type": "stream",
     "text": [
      "/usr/local/lib/python3.7/dist-packages/sklearn/linear_model/_logistic.py:818: ConvergenceWarning: lbfgs failed to converge (status=1):\n",
      "STOP: TOTAL NO. of ITERATIONS REACHED LIMIT.\n",
      "\n",
      "Increase the number of iterations (max_iter) or scale the data as shown in:\n",
      "    https://scikit-learn.org/stable/modules/preprocessing.html\n",
      "Please also refer to the documentation for alternative solver options:\n",
      "    https://scikit-learn.org/stable/modules/linear_model.html#logistic-regression\n",
      "  extra_warning_msg=_LOGISTIC_SOLVER_CONVERGENCE_MSG,\n"
     ]
    },
    {
     "name": "stdout",
     "output_type": "stream",
     "text": [
      "[CV 3/3; 3/4] END ..........C=0.2, solver=lbfgs;, score=0.707 total time= 2.6min\n",
      "[CV 1/3; 4/4] START C=0.8, solver=lbfgs.........................................\n",
      "[CV 1/3; 4/4] END ..........C=0.8, solver=lbfgs;, score=0.689 total time= 1.5min\n",
      "[CV 2/3; 4/4] START C=0.8, solver=lbfgs.........................................\n"
     ]
    },
    {
     "name": "stderr",
     "output_type": "stream",
     "text": [
      "/usr/local/lib/python3.7/dist-packages/sklearn/linear_model/_logistic.py:818: ConvergenceWarning: lbfgs failed to converge (status=1):\n",
      "STOP: TOTAL NO. of ITERATIONS REACHED LIMIT.\n",
      "\n",
      "Increase the number of iterations (max_iter) or scale the data as shown in:\n",
      "    https://scikit-learn.org/stable/modules/preprocessing.html\n",
      "Please also refer to the documentation for alternative solver options:\n",
      "    https://scikit-learn.org/stable/modules/linear_model.html#logistic-regression\n",
      "  extra_warning_msg=_LOGISTIC_SOLVER_CONVERGENCE_MSG,\n"
     ]
    },
    {
     "name": "stdout",
     "output_type": "stream",
     "text": [
      "[CV 2/3; 4/4] END ..........C=0.8, solver=lbfgs;, score=0.684 total time= 2.8min\n",
      "[CV 3/3; 4/4] START C=0.8, solver=lbfgs.........................................\n"
     ]
    },
    {
     "name": "stderr",
     "output_type": "stream",
     "text": [
      "/usr/local/lib/python3.7/dist-packages/sklearn/linear_model/_logistic.py:818: ConvergenceWarning: lbfgs failed to converge (status=1):\n",
      "STOP: TOTAL NO. of ITERATIONS REACHED LIMIT.\n",
      "\n",
      "Increase the number of iterations (max_iter) or scale the data as shown in:\n",
      "    https://scikit-learn.org/stable/modules/preprocessing.html\n",
      "Please also refer to the documentation for alternative solver options:\n",
      "    https://scikit-learn.org/stable/modules/linear_model.html#logistic-regression\n",
      "  extra_warning_msg=_LOGISTIC_SOLVER_CONVERGENCE_MSG,\n"
     ]
    },
    {
     "name": "stdout",
     "output_type": "stream",
     "text": [
      "[CV 3/3; 4/4] END ..........C=0.8, solver=lbfgs;, score=0.704 total time= 2.6min\n"
     ]
    },
    {
     "name": "stderr",
     "output_type": "stream",
     "text": [
      "/usr/local/lib/python3.7/dist-packages/sklearn/linear_model/_logistic.py:818: ConvergenceWarning: lbfgs failed to converge (status=1):\n",
      "STOP: TOTAL NO. of ITERATIONS REACHED LIMIT.\n",
      "\n",
      "Increase the number of iterations (max_iter) or scale the data as shown in:\n",
      "    https://scikit-learn.org/stable/modules/preprocessing.html\n",
      "Please also refer to the documentation for alternative solver options:\n",
      "    https://scikit-learn.org/stable/modules/linear_model.html#logistic-regression\n",
      "  extra_warning_msg=_LOGISTIC_SOLVER_CONVERGENCE_MSG,\n"
     ]
    },
    {
     "data": {
      "text/plain": [
       "RandomizedSearchCV(cv=3,\n",
       "                   estimator=LogisticRegression(max_iter=500,\n",
       "                                                random_state=2209),\n",
       "                   n_iter=4, n_jobs=1,\n",
       "                   param_distributions={'C': (0.2, 0.4, 0.5, 0.6, 0.8),\n",
       "                                        'solver': ('lbfgs', 'liblinear')},\n",
       "                   random_state=2209, scoring='roc_auc', verbose=100)"
      ]
     },
     "execution_count": 11,
     "metadata": {},
     "output_type": "execute_result"
    }
   ],
   "source": [
    "model = LogisticRegression(random_state = 2209, max_iter = 500)\n",
    "parameters = {'C': (0.2, 0.4, 0.5, 0.6, 0.8), 'solver' : ('lbfgs', 'liblinear')}\n",
    "clf = RandomizedSearchCV(model, parameters, n_iter=4, n_jobs=1, verbose=100, cv=3, random_state=2209, scoring='roc_auc')\n",
    "clf.fit(trainX.values, trainY.values)"
   ]
  },
  {
   "cell_type": "code",
   "execution_count": null,
   "metadata": {
    "id": "OdM8STBbWVE3"
   },
   "outputs": [],
   "source": [
    "# descargo modelo\n",
    "import pickle\n",
    "with open('/content/drive/Othercomputers/Gabriel-G5/FIUBA/ORGADATOS/TP3/data/model_backup', 'wb') as model_backup_file:\n",
    "    pickle.dump(clf, model_backup_file)"
   ]
  },
  {
   "cell_type": "code",
   "execution_count": 9,
   "metadata": {},
   "outputs": [],
   "source": [
    "import pickle\n",
    "with open('data/model_backup', 'rb') as file:\n",
    "    clf = pickle.load(file)"
   ]
  },
  {
   "cell_type": "code",
   "execution_count": 5,
   "metadata": {
    "colab": {
     "base_uri": "https://localhost:8080/"
    },
    "id": "nir0AE8GYAPe",
    "outputId": "8e55e434-f5d8-4e76-fb62-eb05edbfdf0c"
   },
   "outputs": [
    {
     "data": {
      "text/plain": [
       "{'solver': 'lbfgs', 'C': 0.8}"
      ]
     },
     "execution_count": 5,
     "metadata": {},
     "output_type": "execute_result"
    }
   ],
   "source": [
    "clf.best_params_"
   ]
  },
  {
   "cell_type": "code",
   "execution_count": 10,
   "metadata": {
    "id": "5ScuXOmgYNes"
   },
   "outputs": [],
   "source": [
    "preds = clf.predict(validationSetX.values)\n",
    "preds_proba = clf.predict_proba(validationSetX.values)"
   ]
  },
  {
   "cell_type": "code",
   "execution_count": null,
   "metadata": {
    "colab": {
     "base_uri": "https://localhost:8080/"
    },
    "id": "eI56k8xJHB2C",
    "outputId": "1b982475-52d4-4739-d069-0eaf423993e3"
   },
   "outputs": [
    {
     "name": "stdout",
     "output_type": "stream",
     "text": [
      "              precision    recall  f1-score   support\n",
      "\n",
      "           0       0.96      1.00      0.98     48631\n",
      "           1       0.18      0.00      0.00      1905\n",
      "\n",
      "    accuracy                           0.96     50536\n",
      "   macro avg       0.57      0.50      0.49     50536\n",
      "weighted avg       0.93      0.96      0.94     50536\n",
      "\n"
     ]
    }
   ],
   "source": [
    "print(classification_report(validationSetY.values, preds))"
   ]
  },
  {
   "cell_type": "code",
   "execution_count": null,
   "metadata": {
    "colab": {
     "base_uri": "https://localhost:8080/"
    },
    "id": "Ab8tkFrMHB2D",
    "outputId": "f72911bc-650f-4884-dbcf-e1c64f7f7df3"
   },
   "outputs": [
    {
     "data": {
      "text/plain": [
       "0.7237591178218143"
      ]
     },
     "execution_count": 17,
     "metadata": {},
     "output_type": "execute_result"
    }
   ],
   "source": [
    "roc_auc_score(validationSetY, preds_proba[:,1])"
   ]
  },
  {
   "cell_type": "markdown",
   "metadata": {
    "id": "VmexAijnfTMZ"
   },
   "source": [
    "¿Cuál es el mejor score de validación obtenido? (¿Cómo conviene obtener el dataset para validar?)\n",
    "\n",
    "---\n",
    "El mejor score (auc roc) es 0.7237 y el dataset de validacion lo obtuve tomando el 10% del train set con el TransactionDT mas grande, de tal forma que el modelo no se entrene con datos futuros a los de validacion."
   ]
  },
  {
   "cell_type": "code",
   "execution_count": null,
   "metadata": {
    "id": "6ZDQQhFAbkxZ"
   },
   "outputs": [],
   "source": [
    "# cargo test y predigo para mandar a la competencia\n",
    "testTransact = pd.read_csv('/content/drive/Othercomputers/Gabriel-G5/FIUBA/ORGADATOS/TP3/data/test_transaction.csv')\n",
    "testId = pd.read_csv('/content/drive/Othercomputers/Gabriel-G5/FIUBA/ORGADATOS/TP3/data/test_identity.csv')\n",
    "testTransact.set_index('TransactionID',inplace=True)\n",
    "testId.set_index('TransactionID',inplace=True)\n",
    "test = testTransact.join(testId, how= 'outer')\n",
    "testId = None\n",
    "testTransact = None"
   ]
  },
  {
   "cell_type": "code",
   "execution_count": null,
   "metadata": {
    "id": "3XNddwxLTJK6"
   },
   "outputs": [],
   "source": [
    "test.rename(inplace=True, columns={\"id-01\":\"id_01\", \"id-02\":\"id_02\",\"id-03\":\"id_03\",\"id-04\":\"id_04\",\"id-05\":\"id_05\",\"id-06\":\"id_06\",\"id-07\":\"id_07\",\"id-08\":\"id_08\",\"id-09\":\"id_09\",\"id-11\":\"id_11\",\"id-12\":\"id_12\",\"id-13\":\"id_13\",\"id-14\":\"id_14\",\"id-15\":\"id_15\",\"id-16\":\"id_16\",\"id-17\":\"id_17\",\"id-18\":\"id_18\",\"id-19\":\"id_19\",\"id-20\":\"id_20\",\"id-21\":\"id_21\",\"id-22\":\"id_22\",\"id-23\":\"id_23\",\"id-24\":\"id_24\",\"id-25\":\"id_25\",\"id-26\":\"id_26\",\"id-27\":\"id_27\",\"id-28\":\"id_28\",\"id-29\":\"id_29\",\"id-30\":\"id_30\",\"id-31\":\"id_31\",\"id-32\":\"id_32\",\"id-33\":\"id_33\",\"id-34\":\"id_34\",\"id-35\":\"id_35\",\"id-36\":\"id_36\",\"id-37\":\"id_37\",\"id-38\":\"id_38\",})\n",
    "for feature, mapsDict in mappings.items():\n",
    "    test[feature] = test[feature].map(mapsDict)"
   ]
  },
  {
   "cell_type": "code",
   "execution_count": null,
   "metadata": {
    "id": "tXa3G_BjuEFD"
   },
   "outputs": [],
   "source": [
    "test.fillna(value=0, inplace=True)"
   ]
  },
  {
   "cell_type": "code",
   "execution_count": null,
   "metadata": {
    "colab": {
     "base_uri": "https://localhost:8080/"
    },
    "id": "DWoW6Z2Glg7g",
    "outputId": "7cf34ecc-fe91-4086-ec5b-d2e0c44fdf4d"
   },
   "outputs": [
    {
     "data": {
      "text/plain": [
       "array([0.00537475, 0.00503278, 0.0012683 , ..., 0.00668423, 0.00821235,\n",
       "       0.13085527])"
      ]
     },
     "execution_count": 29,
     "metadata": {},
     "output_type": "execute_result"
    }
   ],
   "source": [
    "testpreds = clf.predict_proba(test.values)[:,1]\n",
    "testpreds"
   ]
  },
  {
   "cell_type": "code",
   "execution_count": null,
   "metadata": {
    "id": "IMvekLFAl88r"
   },
   "outputs": [],
   "source": [
    "pd.DataFrame(testpreds, index=test.index ).rename(columns={0:'isFraud'}).to_csv('/content/drive/Othercomputers/Gabriel-G5/FIUBA/ORGADATOS/TP3/data/late_submission.csv')"
   ]
  },
  {
   "cell_type": "markdown",
   "metadata": {
    "id": "Uenf-LIdqT3w"
   },
   "source": [
    "Al predecir con este modelo para la competencia, ¿Cúal es el score obtenido?\n",
    "(guardar el csv con predicciones para entregarlo después)\n",
    "\n",
    "---\n",
    "Obtuve 0.709451\n"
   ]
  },
  {
   "cell_type": "code",
   "execution_count": 7,
   "metadata": {
    "id": "VfAd-c3-q68u"
   },
   "outputs": [],
   "source": [
    "# obtengo los coeficientes para ver las features mas importantes\n",
    "coefs = clf.best_estimator_.coef_[0]"
   ]
  },
  {
   "cell_type": "code",
   "execution_count": 17,
   "metadata": {
    "id": "bhqcp-9ltlCB"
   },
   "outputs": [],
   "source": [
    "coefsdata = pd.DataFrame.from_dict({x:y for x,y in zip(trainX.columns, coefs)}, orient='index').rename(columns={0:'proba'})"
   ]
  },
  {
   "cell_type": "code",
   "execution_count": 18,
   "metadata": {
    "id": "T-Azsrtn-WU0"
   },
   "outputs": [],
   "source": [
    "fraud = []\n",
    "for proba in coefsdata.values:\n",
    "  if proba[0] >= 0: fraud.append(1)\n",
    "  else: fraud.append(0)\n",
    "\n",
    "coefsdata['fraud'] = fraud\n",
    "coefsdata = coefsdata.apply(lambda x: abs(x))"
   ]
  },
  {
   "cell_type": "code",
   "execution_count": 19,
   "metadata": {
    "id": "ZYy0Ws12UMMO"
   },
   "outputs": [],
   "source": [
    "coefsdata['norm'] = coefsdata['proba'] / trainX.mean(axis=0)"
   ]
  },
  {
   "cell_type": "code",
   "execution_count": 20,
   "metadata": {
    "colab": {
     "base_uri": "https://localhost:8080/",
     "height": 424
    },
    "id": "tSaXyFYq_LyI",
    "outputId": "0a385db0-9849-4fe7-c99c-75bcdab5ba3c"
   },
   "outputs": [
    {
     "data": {
      "text/html": [
       "<div>\n",
       "<style scoped>\n",
       "    .dataframe tbody tr th:only-of-type {\n",
       "        vertical-align: middle;\n",
       "    }\n",
       "\n",
       "    .dataframe tbody tr th {\n",
       "        vertical-align: top;\n",
       "    }\n",
       "\n",
       "    .dataframe thead th {\n",
       "        text-align: right;\n",
       "    }\n",
       "</style>\n",
       "<table border=\"1\" class=\"dataframe\">\n",
       "  <thead>\n",
       "    <tr style=\"text-align: right;\">\n",
       "      <th></th>\n",
       "      <th>proba</th>\n",
       "      <th>fraud</th>\n",
       "      <th>norm</th>\n",
       "    </tr>\n",
       "  </thead>\n",
       "  <tbody>\n",
       "    <tr>\n",
       "      <th>TransactionDT</th>\n",
       "      <td>3.684820e-08</td>\n",
       "      <td>0</td>\n",
       "      <td>5.534094e-15</td>\n",
       "    </tr>\n",
       "    <tr>\n",
       "      <th>TransactionAmt</th>\n",
       "      <td>7.558719e-04</td>\n",
       "      <td>0</td>\n",
       "      <td>5.610379e-06</td>\n",
       "    </tr>\n",
       "    <tr>\n",
       "      <th>ProductCD</th>\n",
       "      <td>5.941970e-08</td>\n",
       "      <td>0</td>\n",
       "      <td>1.710570e-06</td>\n",
       "    </tr>\n",
       "    <tr>\n",
       "      <th>card1</th>\n",
       "      <td>5.653902e-05</td>\n",
       "      <td>0</td>\n",
       "      <td>5.722779e-09</td>\n",
       "    </tr>\n",
       "    <tr>\n",
       "      <th>card2</th>\n",
       "      <td>2.663813e-03</td>\n",
       "      <td>0</td>\n",
       "      <td>7.467356e-06</td>\n",
       "    </tr>\n",
       "    <tr>\n",
       "      <th>...</th>\n",
       "      <td>...</td>\n",
       "      <td>...</td>\n",
       "      <td>...</td>\n",
       "    </tr>\n",
       "    <tr>\n",
       "      <th>id_36</th>\n",
       "      <td>1.006666e-08</td>\n",
       "      <td>1</td>\n",
       "      <td>5.353066e-07</td>\n",
       "    </tr>\n",
       "    <tr>\n",
       "      <th>id_37</th>\n",
       "      <td>6.226849e-09</td>\n",
       "      <td>1</td>\n",
       "      <td>3.311200e-07</td>\n",
       "    </tr>\n",
       "    <tr>\n",
       "      <th>id_38</th>\n",
       "      <td>3.818227e-08</td>\n",
       "      <td>1</td>\n",
       "      <td>2.030387e-06</td>\n",
       "    </tr>\n",
       "    <tr>\n",
       "      <th>DeviceType</th>\n",
       "      <td>2.773543e-08</td>\n",
       "      <td>1</td>\n",
       "      <td>1.475736e-06</td>\n",
       "    </tr>\n",
       "    <tr>\n",
       "      <th>DeviceInfo</th>\n",
       "      <td>8.200782e-07</td>\n",
       "      <td>1</td>\n",
       "      <td>5.700895e-05</td>\n",
       "    </tr>\n",
       "  </tbody>\n",
       "</table>\n",
       "<p>432 rows × 3 columns</p>\n",
       "</div>"
      ],
      "text/plain": [
       "                       proba  fraud          norm\n",
       "TransactionDT   3.684820e-08      0  5.534094e-15\n",
       "TransactionAmt  7.558719e-04      0  5.610379e-06\n",
       "ProductCD       5.941970e-08      0  1.710570e-06\n",
       "card1           5.653902e-05      0  5.722779e-09\n",
       "card2           2.663813e-03      0  7.467356e-06\n",
       "...                      ...    ...           ...\n",
       "id_36           1.006666e-08      1  5.353066e-07\n",
       "id_37           6.226849e-09      1  3.311200e-07\n",
       "id_38           3.818227e-08      1  2.030387e-06\n",
       "DeviceType      2.773543e-08      1  1.475736e-06\n",
       "DeviceInfo      8.200782e-07      1  5.700895e-05\n",
       "\n",
       "[432 rows x 3 columns]"
      ]
     },
     "execution_count": 20,
     "metadata": {},
     "output_type": "execute_result"
    }
   ],
   "source": [
    "coefsdata"
   ]
  },
  {
   "cell_type": "code",
   "execution_count": 30,
   "metadata": {
    "id": "cMuYEYWm8aBB"
   },
   "outputs": [],
   "source": [
    "top20norm = coefsdata.nlargest(20, columns='norm')"
   ]
  },
  {
   "cell_type": "code",
   "execution_count": 31,
   "metadata": {
    "colab": {
     "base_uri": "https://localhost:8080/",
     "height": 677
    },
    "id": "MtksSStIVxJx",
    "outputId": "26ade1f7-b4b1-4586-ef44-5a79bd201bd5"
   },
   "outputs": [
    {
     "data": {
      "text/html": [
       "<div>\n",
       "<style scoped>\n",
       "    .dataframe tbody tr th:only-of-type {\n",
       "        vertical-align: middle;\n",
       "    }\n",
       "\n",
       "    .dataframe tbody tr th {\n",
       "        vertical-align: top;\n",
       "    }\n",
       "\n",
       "    .dataframe thead th {\n",
       "        text-align: right;\n",
       "    }\n",
       "</style>\n",
       "<table border=\"1\" class=\"dataframe\">\n",
       "  <thead>\n",
       "    <tr style=\"text-align: right;\">\n",
       "      <th></th>\n",
       "      <th>proba</th>\n",
       "      <th>fraud</th>\n",
       "      <th>norm</th>\n",
       "    </tr>\n",
       "  </thead>\n",
       "  <tbody>\n",
       "    <tr>\n",
       "      <th>V232</th>\n",
       "      <td>1.374704e-05</td>\n",
       "      <td>1</td>\n",
       "      <td>0.000076</td>\n",
       "    </tr>\n",
       "    <tr>\n",
       "      <th>V233</th>\n",
       "      <td>1.138383e-05</td>\n",
       "      <td>1</td>\n",
       "      <td>0.000071</td>\n",
       "    </tr>\n",
       "    <tr>\n",
       "      <th>V231</th>\n",
       "      <td>8.844931e-06</td>\n",
       "      <td>1</td>\n",
       "      <td>0.000067</td>\n",
       "    </tr>\n",
       "    <tr>\n",
       "      <th>id_03</th>\n",
       "      <td>4.661351e-07</td>\n",
       "      <td>1</td>\n",
       "      <td>0.000067</td>\n",
       "    </tr>\n",
       "    <tr>\n",
       "      <th>V147</th>\n",
       "      <td>1.424969e-06</td>\n",
       "      <td>1</td>\n",
       "      <td>0.000062</td>\n",
       "    </tr>\n",
       "    <tr>\n",
       "      <th>DeviceInfo</th>\n",
       "      <td>8.200782e-07</td>\n",
       "      <td>1</td>\n",
       "      <td>0.000057</td>\n",
       "    </tr>\n",
       "    <tr>\n",
       "      <th>V239</th>\n",
       "      <td>1.828066e-06</td>\n",
       "      <td>1</td>\n",
       "      <td>0.000057</td>\n",
       "    </tr>\n",
       "    <tr>\n",
       "      <th>V177</th>\n",
       "      <td>7.086527e-06</td>\n",
       "      <td>1</td>\n",
       "      <td>0.000056</td>\n",
       "    </tr>\n",
       "    <tr>\n",
       "      <th>V217</th>\n",
       "      <td>1.005175e-05</td>\n",
       "      <td>1</td>\n",
       "      <td>0.000052</td>\n",
       "    </tr>\n",
       "    <tr>\n",
       "      <th>V219</th>\n",
       "      <td>1.281331e-05</td>\n",
       "      <td>1</td>\n",
       "      <td>0.000050</td>\n",
       "    </tr>\n",
       "    <tr>\n",
       "      <th>V179</th>\n",
       "      <td>8.930534e-06</td>\n",
       "      <td>1</td>\n",
       "      <td>0.000050</td>\n",
       "    </tr>\n",
       "    <tr>\n",
       "      <th>id_09</th>\n",
       "      <td>6.006629e-07</td>\n",
       "      <td>1</td>\n",
       "      <td>0.000049</td>\n",
       "    </tr>\n",
       "    <tr>\n",
       "      <th>V185</th>\n",
       "      <td>1.601937e-06</td>\n",
       "      <td>1</td>\n",
       "      <td>0.000046</td>\n",
       "    </tr>\n",
       "    <tr>\n",
       "      <th>V238</th>\n",
       "      <td>1.338040e-06</td>\n",
       "      <td>1</td>\n",
       "      <td>0.000045</td>\n",
       "    </tr>\n",
       "    <tr>\n",
       "      <th>V218</th>\n",
       "      <td>1.482373e-05</td>\n",
       "      <td>1</td>\n",
       "      <td>0.000044</td>\n",
       "    </tr>\n",
       "    <tr>\n",
       "      <th>V184</th>\n",
       "      <td>1.336680e-06</td>\n",
       "      <td>1</td>\n",
       "      <td>0.000044</td>\n",
       "    </tr>\n",
       "    <tr>\n",
       "      <th>V146</th>\n",
       "      <td>9.240832e-07</td>\n",
       "      <td>1</td>\n",
       "      <td>0.000044</td>\n",
       "    </tr>\n",
       "    <tr>\n",
       "      <th>V258</th>\n",
       "      <td>1.297109e-05</td>\n",
       "      <td>1</td>\n",
       "      <td>0.000043</td>\n",
       "    </tr>\n",
       "    <tr>\n",
       "      <th>V178</th>\n",
       "      <td>1.103281e-05</td>\n",
       "      <td>1</td>\n",
       "      <td>0.000042</td>\n",
       "    </tr>\n",
       "    <tr>\n",
       "      <th>V269</th>\n",
       "      <td>5.919310e-05</td>\n",
       "      <td>0</td>\n",
       "      <td>0.000042</td>\n",
       "    </tr>\n",
       "  </tbody>\n",
       "</table>\n",
       "</div>"
      ],
      "text/plain": [
       "                   proba  fraud      norm\n",
       "V232        1.374704e-05      1  0.000076\n",
       "V233        1.138383e-05      1  0.000071\n",
       "V231        8.844931e-06      1  0.000067\n",
       "id_03       4.661351e-07      1  0.000067\n",
       "V147        1.424969e-06      1  0.000062\n",
       "DeviceInfo  8.200782e-07      1  0.000057\n",
       "V239        1.828066e-06      1  0.000057\n",
       "V177        7.086527e-06      1  0.000056\n",
       "V217        1.005175e-05      1  0.000052\n",
       "V219        1.281331e-05      1  0.000050\n",
       "V179        8.930534e-06      1  0.000050\n",
       "id_09       6.006629e-07      1  0.000049\n",
       "V185        1.601937e-06      1  0.000046\n",
       "V238        1.338040e-06      1  0.000045\n",
       "V218        1.482373e-05      1  0.000044\n",
       "V184        1.336680e-06      1  0.000044\n",
       "V146        9.240832e-07      1  0.000044\n",
       "V258        1.297109e-05      1  0.000043\n",
       "V178        1.103281e-05      1  0.000042\n",
       "V269        5.919310e-05      0  0.000042"
      ]
     },
     "execution_count": 31,
     "metadata": {},
     "output_type": "execute_result"
    }
   ],
   "source": [
    "top20norm"
   ]
  },
  {
   "cell_type": "code",
   "execution_count": 33,
   "metadata": {
    "colab": {
     "base_uri": "https://localhost:8080/",
     "height": 542
    },
    "id": "bZYw_O-59Yar",
    "outputId": "eca5bf7a-a172-4079-b1e8-0121554e46f9"
   },
   "outputs": [
    {
     "data": {
      "text/plain": [
       "Text(0.5, 1.0, 'Importancia (normalizada) de los Features')"
      ]
     },
     "execution_count": 33,
     "metadata": {},
     "output_type": "execute_result"
    },
    {
     "data": {
      "image/png": "[encoded data removed]",
      "text/plain": [
       "<Figure size 1080x576 with 1 Axes>"
      ]
     },
     "metadata": {},
     "output_type": "display_data"
    }
   ],
   "source": [
    "barnorm = sns.barplot(x=top20norm['norm'], y=top20norm.index, hue=top20norm['fraud'])\n",
    "barnorm.set_yticklabels(top20norm.index, fontsize=14, rotation=0, ha= 'right')\n",
    "barnorm.set_title('Importancia (normalizada) de los Features', fontsize=20)"
   ]
  }
 ],
 "metadata": {
  "colab": {
   "collapsed_sections": [],
   "name": "TP3-Parte2.ipynb",
   "provenance": []
  },
  "kernelspec": {
   "display_name": "Python 3",
   "language": "python",
   "name": "python3"
  },
  "language_info": {
   "codemirror_mode": {
    "name": "ipython",
    "version": 3
   },
   "file_extension": ".py",
   "mimetype": "text/x-python",
   "name": "python",
   "nbconvert_exporter": "python",
   "pygments_lexer": "ipython3",
   "version": "3.8.5"
  }
 },
 "nbformat": 4,
 "nbformat_minor": 4
}
